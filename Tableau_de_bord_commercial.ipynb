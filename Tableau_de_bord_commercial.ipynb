{
  "nbformat": 4,
  "nbformat_minor": 0,
  "metadata": {
    "colab": {
      "provenance": [],
      "authorship_tag": "ABX9TyPbyPYF7vi3b94VjDhgWNlU",
      "include_colab_link": true
    },
    "kernelspec": {
      "name": "python3",
      "display_name": "Python 3"
    },
    "language_info": {
      "name": "python"
    }
  },
  "cells": [
    {
      "cell_type": "markdown",
      "metadata": {
        "id": "view-in-github",
        "colab_type": "text"
      },
      "source": [
        "<a href=\"https://colab.research.google.com/github/tarhi/Apple-statistique-et-analyse/blob/main/Tableau_de_bord_commercial.ipynb\" target=\"_parent\"><img src=\"https://colab.research.google.com/assets/colab-badge.svg\" alt=\"Open In Colab\"/></a>"
      ]
    },
    {
      "cell_type": "markdown",
      "source": [
        "introduction:\n",
        "\n",
        "la société alpha spécialisé dans le dommaine de la commercialisation des bouteille de gaz,  demande un traitement, une analyse et une recommandation sur la base base donnée \"vente\" pour l'année 2013.\n"
      ],
      "metadata": {
        "id": "WpqFbe5-XfPI"
      }
    },
    {
      "cell_type": "code",
      "source": [
        "# importer les package\n",
        "import pandas as pd\n",
        "import numpy as np\n",
        "import matplotlib.pyplot as plt\n",
        "import seaborn as sns\n",
        "import datetime as dt"
      ],
      "metadata": {
        "id": "V6E3Gp2WXdXI"
      },
      "execution_count": null,
      "outputs": []
    },
    {
      "cell_type": "code",
      "source": [
        "vente = pd.read_excel('/content/vente.xlsx')\n",
        "vente.head()"
      ],
      "metadata": {
        "colab": {
          "base_uri": "https://localhost:8080/",
          "height": 206
        },
        "id": "_uYeNxWGinyn",
        "outputId": "ef32e826-f880-40ce-caff-378e53df2b12"
      },
      "execution_count": null,
      "outputs": [
        {
          "output_type": "execute_result",
          "data": {
            "text/plain": [
              "       Date  Centres d'Activite      Produits Clients  Qte Vendue  prix  taxe\n",
              "0 2013-01-31              CTR 1  produit 30kg   clt 1      16.665    10   0.2\n",
              "1 2013-01-31              CTR 1  produit 30kg   clt 2       9.582    10   0.2\n",
              "2 2013-01-31              CTR 1  produit 30kg   clt 3      31.248    10   0.2\n",
              "3 2013-01-31              CTR 1  produit 30kg   clt 4       1.800    10   0.2\n",
              "4 2013-01-31              CTR 1  produit 30kg   clt 5     158.648    10   0.2"
            ],
            "text/html": [
              "\n",
              "  <div id=\"df-6cdd60a1-0b46-4cd9-861d-7aafe150737f\">\n",
              "    <div class=\"colab-df-container\">\n",
              "      <div>\n",
              "<style scoped>\n",
              "    .dataframe tbody tr th:only-of-type {\n",
              "        vertical-align: middle;\n",
              "    }\n",
              "\n",
              "    .dataframe tbody tr th {\n",
              "        vertical-align: top;\n",
              "    }\n",
              "\n",
              "    .dataframe thead th {\n",
              "        text-align: right;\n",
              "    }\n",
              "</style>\n",
              "<table border=\"1\" class=\"dataframe\">\n",
              "  <thead>\n",
              "    <tr style=\"text-align: right;\">\n",
              "      <th></th>\n",
              "      <th>Date</th>\n",
              "      <th>Centres d'Activite</th>\n",
              "      <th>Produits</th>\n",
              "      <th>Clients</th>\n",
              "      <th>Qte Vendue</th>\n",
              "      <th>prix</th>\n",
              "      <th>taxe</th>\n",
              "    </tr>\n",
              "  </thead>\n",
              "  <tbody>\n",
              "    <tr>\n",
              "      <th>0</th>\n",
              "      <td>2013-01-31</td>\n",
              "      <td>CTR 1</td>\n",
              "      <td>produit 30kg</td>\n",
              "      <td>clt 1</td>\n",
              "      <td>16.665</td>\n",
              "      <td>10</td>\n",
              "      <td>0.2</td>\n",
              "    </tr>\n",
              "    <tr>\n",
              "      <th>1</th>\n",
              "      <td>2013-01-31</td>\n",
              "      <td>CTR 1</td>\n",
              "      <td>produit 30kg</td>\n",
              "      <td>clt 2</td>\n",
              "      <td>9.582</td>\n",
              "      <td>10</td>\n",
              "      <td>0.2</td>\n",
              "    </tr>\n",
              "    <tr>\n",
              "      <th>2</th>\n",
              "      <td>2013-01-31</td>\n",
              "      <td>CTR 1</td>\n",
              "      <td>produit 30kg</td>\n",
              "      <td>clt 3</td>\n",
              "      <td>31.248</td>\n",
              "      <td>10</td>\n",
              "      <td>0.2</td>\n",
              "    </tr>\n",
              "    <tr>\n",
              "      <th>3</th>\n",
              "      <td>2013-01-31</td>\n",
              "      <td>CTR 1</td>\n",
              "      <td>produit 30kg</td>\n",
              "      <td>clt 4</td>\n",
              "      <td>1.800</td>\n",
              "      <td>10</td>\n",
              "      <td>0.2</td>\n",
              "    </tr>\n",
              "    <tr>\n",
              "      <th>4</th>\n",
              "      <td>2013-01-31</td>\n",
              "      <td>CTR 1</td>\n",
              "      <td>produit 30kg</td>\n",
              "      <td>clt 5</td>\n",
              "      <td>158.648</td>\n",
              "      <td>10</td>\n",
              "      <td>0.2</td>\n",
              "    </tr>\n",
              "  </tbody>\n",
              "</table>\n",
              "</div>\n",
              "      <button class=\"colab-df-convert\" onclick=\"convertToInteractive('df-6cdd60a1-0b46-4cd9-861d-7aafe150737f')\"\n",
              "              title=\"Convert this dataframe to an interactive table.\"\n",
              "              style=\"display:none;\">\n",
              "        \n",
              "  <svg xmlns=\"http://www.w3.org/2000/svg\" height=\"24px\"viewBox=\"0 0 24 24\"\n",
              "       width=\"24px\">\n",
              "    <path d=\"M0 0h24v24H0V0z\" fill=\"none\"/>\n",
              "    <path d=\"M18.56 5.44l.94 2.06.94-2.06 2.06-.94-2.06-.94-.94-2.06-.94 2.06-2.06.94zm-11 1L8.5 8.5l.94-2.06 2.06-.94-2.06-.94L8.5 2.5l-.94 2.06-2.06.94zm10 10l.94 2.06.94-2.06 2.06-.94-2.06-.94-.94-2.06-.94 2.06-2.06.94z\"/><path d=\"M17.41 7.96l-1.37-1.37c-.4-.4-.92-.59-1.43-.59-.52 0-1.04.2-1.43.59L10.3 9.45l-7.72 7.72c-.78.78-.78 2.05 0 2.83L4 21.41c.39.39.9.59 1.41.59.51 0 1.02-.2 1.41-.59l7.78-7.78 2.81-2.81c.8-.78.8-2.07 0-2.86zM5.41 20L4 18.59l7.72-7.72 1.47 1.35L5.41 20z\"/>\n",
              "  </svg>\n",
              "      </button>\n",
              "      \n",
              "  <style>\n",
              "    .colab-df-container {\n",
              "      display:flex;\n",
              "      flex-wrap:wrap;\n",
              "      gap: 12px;\n",
              "    }\n",
              "\n",
              "    .colab-df-convert {\n",
              "      background-color: #E8F0FE;\n",
              "      border: none;\n",
              "      border-radius: 50%;\n",
              "      cursor: pointer;\n",
              "      display: none;\n",
              "      fill: #1967D2;\n",
              "      height: 32px;\n",
              "      padding: 0 0 0 0;\n",
              "      width: 32px;\n",
              "    }\n",
              "\n",
              "    .colab-df-convert:hover {\n",
              "      background-color: #E2EBFA;\n",
              "      box-shadow: 0px 1px 2px rgba(60, 64, 67, 0.3), 0px 1px 3px 1px rgba(60, 64, 67, 0.15);\n",
              "      fill: #174EA6;\n",
              "    }\n",
              "\n",
              "    [theme=dark] .colab-df-convert {\n",
              "      background-color: #3B4455;\n",
              "      fill: #D2E3FC;\n",
              "    }\n",
              "\n",
              "    [theme=dark] .colab-df-convert:hover {\n",
              "      background-color: #434B5C;\n",
              "      box-shadow: 0px 1px 3px 1px rgba(0, 0, 0, 0.15);\n",
              "      filter: drop-shadow(0px 1px 2px rgba(0, 0, 0, 0.3));\n",
              "      fill: #FFFFFF;\n",
              "    }\n",
              "  </style>\n",
              "\n",
              "      <script>\n",
              "        const buttonEl =\n",
              "          document.querySelector('#df-6cdd60a1-0b46-4cd9-861d-7aafe150737f button.colab-df-convert');\n",
              "        buttonEl.style.display =\n",
              "          google.colab.kernel.accessAllowed ? 'block' : 'none';\n",
              "\n",
              "        async function convertToInteractive(key) {\n",
              "          const element = document.querySelector('#df-6cdd60a1-0b46-4cd9-861d-7aafe150737f');\n",
              "          const dataTable =\n",
              "            await google.colab.kernel.invokeFunction('convertToInteractive',\n",
              "                                                     [key], {});\n",
              "          if (!dataTable) return;\n",
              "\n",
              "          const docLinkHtml = 'Like what you see? Visit the ' +\n",
              "            '<a target=\"_blank\" href=https://colab.research.google.com/notebooks/data_table.ipynb>data table notebook</a>'\n",
              "            + ' to learn more about interactive tables.';\n",
              "          element.innerHTML = '';\n",
              "          dataTable['output_type'] = 'display_data';\n",
              "          await google.colab.output.renderOutput(dataTable, element);\n",
              "          const docLink = document.createElement('div');\n",
              "          docLink.innerHTML = docLinkHtml;\n",
              "          element.appendChild(docLink);\n",
              "        }\n",
              "      </script>\n",
              "    </div>\n",
              "  </div>\n",
              "  "
            ]
          },
          "metadata": {},
          "execution_count": 2
        }
      ]
    },
    {
      "cell_type": "markdown",
      "source": [
        "nous commencons par une lecture préliminaire de notre data.\n"
      ],
      "metadata": {
        "id": "9rPDusaXjAbf"
      }
    },
    {
      "cell_type": "code",
      "source": [
        "# vente.describe()"
      ],
      "metadata": {
        "id": "0Sdo8puAjMXm"
      },
      "execution_count": null,
      "outputs": []
    },
    {
      "cell_type": "code",
      "source": [
        "vente.info()"
      ],
      "metadata": {
        "colab": {
          "base_uri": "https://localhost:8080/"
        },
        "id": "peMth5Y5jYOn",
        "outputId": "f7038027-0750-453d-9dca-566489c75f89"
      },
      "execution_count": null,
      "outputs": [
        {
          "output_type": "stream",
          "name": "stdout",
          "text": [
            "<class 'pandas.core.frame.DataFrame'>\n",
            "RangeIndex: 5624 entries, 0 to 5623\n",
            "Data columns (total 7 columns):\n",
            " #   Column              Non-Null Count  Dtype         \n",
            "---  ------              --------------  -----         \n",
            " 0   Date                5624 non-null   datetime64[ns]\n",
            " 1   Centres d'Activite  5596 non-null   object        \n",
            " 2   Produits            5624 non-null   object        \n",
            " 3   Clients             5624 non-null   object        \n",
            " 4   Qte Vendue          5624 non-null   float64       \n",
            " 5   prix                5624 non-null   int64         \n",
            " 6   taxe                5624 non-null   float64       \n",
            "dtypes: datetime64[ns](1), float64(2), int64(1), object(3)\n",
            "memory usage: 307.7+ KB\n"
          ]
        }
      ]
    },
    {
      "cell_type": "code",
      "source": [
        "vente.shape"
      ],
      "metadata": {
        "colab": {
          "base_uri": "https://localhost:8080/"
        },
        "id": "LBeaL7A_r_Ye",
        "outputId": "31b06101-a88d-4307-d159-6551ea941078"
      },
      "execution_count": null,
      "outputs": [
        {
          "output_type": "execute_result",
          "data": {
            "text/plain": [
              "(5624, 7)"
            ]
          },
          "metadata": {},
          "execution_count": 5
        }
      ]
    },
    {
      "cell_type": "code",
      "source": [
        "vente.columns"
      ],
      "metadata": {
        "colab": {
          "base_uri": "https://localhost:8080/"
        },
        "id": "2gLMRuFGkNWe",
        "outputId": "a6245c8b-48c4-423a-dbb7-53dfba696a4b"
      },
      "execution_count": null,
      "outputs": [
        {
          "output_type": "execute_result",
          "data": {
            "text/plain": [
              "Index(['Date ', 'Centres d'Activite', 'Produits', 'Clients', 'Qte Vendue',\n",
              "       'prix', 'taxe'],\n",
              "      dtype='object')"
            ]
          },
          "metadata": {},
          "execution_count": 6
        }
      ]
    },
    {
      "cell_type": "markdown",
      "source": [
        "apres nous avons nettoyer notre data on traitant les points suivantes:\n",
        "* modifier la dénomination des colonnes\n",
        "*gérer les valeurs manquantes\n"
      ],
      "metadata": {
        "id": "TuVJUJrYk0Lu"
      }
    },
    {
      "cell_type": "code",
      "source": [
        "# modifier la dénomination des colonnes\n",
        "\n",
        "vente = vente.rename({\"Centres d'Activite\":\"Centres_Activite\"},axis = 1)\n",
        "vente = vente.rename({\"Qte Vendue\":\"Qte_Vendue\"}, axis = 1)"
      ],
      "metadata": {
        "id": "0r0i-MWVllRF"
      },
      "execution_count": null,
      "outputs": []
    },
    {
      "cell_type": "code",
      "source": [
        "vente.columns"
      ],
      "metadata": {
        "colab": {
          "base_uri": "https://localhost:8080/"
        },
        "id": "O1ke3SaglAR2",
        "outputId": "f0910bf1-400b-4756-c433-c7f72b2ae0fa"
      },
      "execution_count": null,
      "outputs": [
        {
          "output_type": "execute_result",
          "data": {
            "text/plain": [
              "Index(['Date ', 'Centres_Activite', 'Produits', 'Clients', 'Qte_Vendue',\n",
              "       'prix', 'taxe'],\n",
              "      dtype='object')"
            ]
          },
          "metadata": {},
          "execution_count": 8
        }
      ]
    },
    {
      "cell_type": "code",
      "source": [
        "# gerer les valeurs manquante\n",
        "vente.isnull().sum()"
      ],
      "metadata": {
        "colab": {
          "base_uri": "https://localhost:8080/"
        },
        "id": "KbfYwL-HooQv",
        "outputId": "c0ac88ee-d9f6-4f0f-b416-7c9d154bf207"
      },
      "execution_count": null,
      "outputs": [
        {
          "output_type": "execute_result",
          "data": {
            "text/plain": [
              "Date                 0\n",
              "Centres_Activite    28\n",
              "Produits             0\n",
              "Clients              0\n",
              "Qte_Vendue           0\n",
              "prix                 0\n",
              "taxe                 0\n",
              "dtype: int64"
            ]
          },
          "metadata": {},
          "execution_count": 9
        }
      ]
    },
    {
      "cell_type": "code",
      "source": [
        "# nous constatons que le centre d'activité contient 28 valeurs manquante\n",
        "\n",
        "NAN = vente[vente['Centres_Activite'].isnull()]\n",
        "NAN"
      ],
      "metadata": {
        "colab": {
          "base_uri": "https://localhost:8080/",
          "height": 927
        },
        "id": "EQ8RgvNmpEdF",
        "outputId": "a5e76d06-b3c7-40a0-b7b3-f96e56006b15"
      },
      "execution_count": null,
      "outputs": [
        {
          "output_type": "execute_result",
          "data": {
            "text/plain": [
              "          Date  Centres_Activite      Produits Clients  Qte_Vendue  prix  taxe\n",
              "299  2013-01-31              NaN  produit brut   clt 2     1359.94     7   0.2\n",
              "300  2013-01-31              NaN  produit brut  clt 15     3455.36     7   0.2\n",
              "446  2013-01-31              NaN  produit brut  clt 16      863.10     7   0.2\n",
              "763  2013-02-28              NaN  produit brut   clt 2      713.20     7   0.2\n",
              "764  2013-02-28              NaN  produit brut  clt 15     3725.88     7   0.2\n",
              "907  2013-02-28              NaN  produit brut  clt 16      520.26     7   0.2\n",
              "1235 2013-03-31              NaN  produit brut   clt 2      398.62     7   0.2\n",
              "1236 2013-03-31              NaN  produit brut  clt 15     3644.18     7   0.2\n",
              "1388 2013-03-31              NaN  produit brut  clt 16      120.00     7   0.2\n",
              "1389 2013-03-31              NaN  produit brut  clt 19      400.40     7   0.2\n",
              "1709 2013-04-30              NaN  produit brut   clt 2      258.12     7   0.2\n",
              "1710 2013-04-30              NaN  produit brut  clt 15     3501.16     7   0.2\n",
              "2196 2013-05-31              NaN  produit brut   clt 2      218.34     7   0.2\n",
              "2197 2013-05-31              NaN  produit brut  clt 15     4085.32     7   0.2\n",
              "2665 2013-06-30              NaN  produit brut   clt 2      512.06     7   0.2\n",
              "2666 2013-06-30              NaN  produit brut  clt 15     3695.22     7   0.2\n",
              "3142 2013-07-31              NaN  produit brut   clt 2      195.32     7   0.2\n",
              "3143 2013-07-31              NaN  produit brut  clt 15     3681.78     7   0.2\n",
              "3601 2013-08-31              NaN  produit brut   clt 2      235.84     7   0.2\n",
              "3602 2013-08-31              NaN  produit brut  clt 15     2999.62     7   0.2\n",
              "4068 2013-09-30              NaN  produit brut   clt 2      313.50     7   0.2\n",
              "4069 2013-09-30              NaN  produit brut  clt 15     3008.86     7   0.2\n",
              "4524 2013-10-31              NaN  produit brut   clt 2      509.38     7   0.2\n",
              "4525 2013-10-31              NaN  produit brut  clt 15     3133.62     7   0.2\n",
              "5000 2013-11-30              NaN  produit brut   clt 2      512.94     7   0.2\n",
              "5001 2013-11-30              NaN  produit brut  clt 15     3614.98     7   0.2\n",
              "5471 2013-12-31              NaN  produit brut   clt 2      474.20     7   0.2\n",
              "5472 2013-12-31              NaN  produit brut  clt 15     3761.28     7   0.2"
            ],
            "text/html": [
              "\n",
              "  <div id=\"df-2d7d0eb0-c03e-4929-9a67-87138bf80581\">\n",
              "    <div class=\"colab-df-container\">\n",
              "      <div>\n",
              "<style scoped>\n",
              "    .dataframe tbody tr th:only-of-type {\n",
              "        vertical-align: middle;\n",
              "    }\n",
              "\n",
              "    .dataframe tbody tr th {\n",
              "        vertical-align: top;\n",
              "    }\n",
              "\n",
              "    .dataframe thead th {\n",
              "        text-align: right;\n",
              "    }\n",
              "</style>\n",
              "<table border=\"1\" class=\"dataframe\">\n",
              "  <thead>\n",
              "    <tr style=\"text-align: right;\">\n",
              "      <th></th>\n",
              "      <th>Date</th>\n",
              "      <th>Centres_Activite</th>\n",
              "      <th>Produits</th>\n",
              "      <th>Clients</th>\n",
              "      <th>Qte_Vendue</th>\n",
              "      <th>prix</th>\n",
              "      <th>taxe</th>\n",
              "    </tr>\n",
              "  </thead>\n",
              "  <tbody>\n",
              "    <tr>\n",
              "      <th>299</th>\n",
              "      <td>2013-01-31</td>\n",
              "      <td>NaN</td>\n",
              "      <td>produit brut</td>\n",
              "      <td>clt 2</td>\n",
              "      <td>1359.94</td>\n",
              "      <td>7</td>\n",
              "      <td>0.2</td>\n",
              "    </tr>\n",
              "    <tr>\n",
              "      <th>300</th>\n",
              "      <td>2013-01-31</td>\n",
              "      <td>NaN</td>\n",
              "      <td>produit brut</td>\n",
              "      <td>clt 15</td>\n",
              "      <td>3455.36</td>\n",
              "      <td>7</td>\n",
              "      <td>0.2</td>\n",
              "    </tr>\n",
              "    <tr>\n",
              "      <th>446</th>\n",
              "      <td>2013-01-31</td>\n",
              "      <td>NaN</td>\n",
              "      <td>produit brut</td>\n",
              "      <td>clt 16</td>\n",
              "      <td>863.10</td>\n",
              "      <td>7</td>\n",
              "      <td>0.2</td>\n",
              "    </tr>\n",
              "    <tr>\n",
              "      <th>763</th>\n",
              "      <td>2013-02-28</td>\n",
              "      <td>NaN</td>\n",
              "      <td>produit brut</td>\n",
              "      <td>clt 2</td>\n",
              "      <td>713.20</td>\n",
              "      <td>7</td>\n",
              "      <td>0.2</td>\n",
              "    </tr>\n",
              "    <tr>\n",
              "      <th>764</th>\n",
              "      <td>2013-02-28</td>\n",
              "      <td>NaN</td>\n",
              "      <td>produit brut</td>\n",
              "      <td>clt 15</td>\n",
              "      <td>3725.88</td>\n",
              "      <td>7</td>\n",
              "      <td>0.2</td>\n",
              "    </tr>\n",
              "    <tr>\n",
              "      <th>907</th>\n",
              "      <td>2013-02-28</td>\n",
              "      <td>NaN</td>\n",
              "      <td>produit brut</td>\n",
              "      <td>clt 16</td>\n",
              "      <td>520.26</td>\n",
              "      <td>7</td>\n",
              "      <td>0.2</td>\n",
              "    </tr>\n",
              "    <tr>\n",
              "      <th>1235</th>\n",
              "      <td>2013-03-31</td>\n",
              "      <td>NaN</td>\n",
              "      <td>produit brut</td>\n",
              "      <td>clt 2</td>\n",
              "      <td>398.62</td>\n",
              "      <td>7</td>\n",
              "      <td>0.2</td>\n",
              "    </tr>\n",
              "    <tr>\n",
              "      <th>1236</th>\n",
              "      <td>2013-03-31</td>\n",
              "      <td>NaN</td>\n",
              "      <td>produit brut</td>\n",
              "      <td>clt 15</td>\n",
              "      <td>3644.18</td>\n",
              "      <td>7</td>\n",
              "      <td>0.2</td>\n",
              "    </tr>\n",
              "    <tr>\n",
              "      <th>1388</th>\n",
              "      <td>2013-03-31</td>\n",
              "      <td>NaN</td>\n",
              "      <td>produit brut</td>\n",
              "      <td>clt 16</td>\n",
              "      <td>120.00</td>\n",
              "      <td>7</td>\n",
              "      <td>0.2</td>\n",
              "    </tr>\n",
              "    <tr>\n",
              "      <th>1389</th>\n",
              "      <td>2013-03-31</td>\n",
              "      <td>NaN</td>\n",
              "      <td>produit brut</td>\n",
              "      <td>clt 19</td>\n",
              "      <td>400.40</td>\n",
              "      <td>7</td>\n",
              "      <td>0.2</td>\n",
              "    </tr>\n",
              "    <tr>\n",
              "      <th>1709</th>\n",
              "      <td>2013-04-30</td>\n",
              "      <td>NaN</td>\n",
              "      <td>produit brut</td>\n",
              "      <td>clt 2</td>\n",
              "      <td>258.12</td>\n",
              "      <td>7</td>\n",
              "      <td>0.2</td>\n",
              "    </tr>\n",
              "    <tr>\n",
              "      <th>1710</th>\n",
              "      <td>2013-04-30</td>\n",
              "      <td>NaN</td>\n",
              "      <td>produit brut</td>\n",
              "      <td>clt 15</td>\n",
              "      <td>3501.16</td>\n",
              "      <td>7</td>\n",
              "      <td>0.2</td>\n",
              "    </tr>\n",
              "    <tr>\n",
              "      <th>2196</th>\n",
              "      <td>2013-05-31</td>\n",
              "      <td>NaN</td>\n",
              "      <td>produit brut</td>\n",
              "      <td>clt 2</td>\n",
              "      <td>218.34</td>\n",
              "      <td>7</td>\n",
              "      <td>0.2</td>\n",
              "    </tr>\n",
              "    <tr>\n",
              "      <th>2197</th>\n",
              "      <td>2013-05-31</td>\n",
              "      <td>NaN</td>\n",
              "      <td>produit brut</td>\n",
              "      <td>clt 15</td>\n",
              "      <td>4085.32</td>\n",
              "      <td>7</td>\n",
              "      <td>0.2</td>\n",
              "    </tr>\n",
              "    <tr>\n",
              "      <th>2665</th>\n",
              "      <td>2013-06-30</td>\n",
              "      <td>NaN</td>\n",
              "      <td>produit brut</td>\n",
              "      <td>clt 2</td>\n",
              "      <td>512.06</td>\n",
              "      <td>7</td>\n",
              "      <td>0.2</td>\n",
              "    </tr>\n",
              "    <tr>\n",
              "      <th>2666</th>\n",
              "      <td>2013-06-30</td>\n",
              "      <td>NaN</td>\n",
              "      <td>produit brut</td>\n",
              "      <td>clt 15</td>\n",
              "      <td>3695.22</td>\n",
              "      <td>7</td>\n",
              "      <td>0.2</td>\n",
              "    </tr>\n",
              "    <tr>\n",
              "      <th>3142</th>\n",
              "      <td>2013-07-31</td>\n",
              "      <td>NaN</td>\n",
              "      <td>produit brut</td>\n",
              "      <td>clt 2</td>\n",
              "      <td>195.32</td>\n",
              "      <td>7</td>\n",
              "      <td>0.2</td>\n",
              "    </tr>\n",
              "    <tr>\n",
              "      <th>3143</th>\n",
              "      <td>2013-07-31</td>\n",
              "      <td>NaN</td>\n",
              "      <td>produit brut</td>\n",
              "      <td>clt 15</td>\n",
              "      <td>3681.78</td>\n",
              "      <td>7</td>\n",
              "      <td>0.2</td>\n",
              "    </tr>\n",
              "    <tr>\n",
              "      <th>3601</th>\n",
              "      <td>2013-08-31</td>\n",
              "      <td>NaN</td>\n",
              "      <td>produit brut</td>\n",
              "      <td>clt 2</td>\n",
              "      <td>235.84</td>\n",
              "      <td>7</td>\n",
              "      <td>0.2</td>\n",
              "    </tr>\n",
              "    <tr>\n",
              "      <th>3602</th>\n",
              "      <td>2013-08-31</td>\n",
              "      <td>NaN</td>\n",
              "      <td>produit brut</td>\n",
              "      <td>clt 15</td>\n",
              "      <td>2999.62</td>\n",
              "      <td>7</td>\n",
              "      <td>0.2</td>\n",
              "    </tr>\n",
              "    <tr>\n",
              "      <th>4068</th>\n",
              "      <td>2013-09-30</td>\n",
              "      <td>NaN</td>\n",
              "      <td>produit brut</td>\n",
              "      <td>clt 2</td>\n",
              "      <td>313.50</td>\n",
              "      <td>7</td>\n",
              "      <td>0.2</td>\n",
              "    </tr>\n",
              "    <tr>\n",
              "      <th>4069</th>\n",
              "      <td>2013-09-30</td>\n",
              "      <td>NaN</td>\n",
              "      <td>produit brut</td>\n",
              "      <td>clt 15</td>\n",
              "      <td>3008.86</td>\n",
              "      <td>7</td>\n",
              "      <td>0.2</td>\n",
              "    </tr>\n",
              "    <tr>\n",
              "      <th>4524</th>\n",
              "      <td>2013-10-31</td>\n",
              "      <td>NaN</td>\n",
              "      <td>produit brut</td>\n",
              "      <td>clt 2</td>\n",
              "      <td>509.38</td>\n",
              "      <td>7</td>\n",
              "      <td>0.2</td>\n",
              "    </tr>\n",
              "    <tr>\n",
              "      <th>4525</th>\n",
              "      <td>2013-10-31</td>\n",
              "      <td>NaN</td>\n",
              "      <td>produit brut</td>\n",
              "      <td>clt 15</td>\n",
              "      <td>3133.62</td>\n",
              "      <td>7</td>\n",
              "      <td>0.2</td>\n",
              "    </tr>\n",
              "    <tr>\n",
              "      <th>5000</th>\n",
              "      <td>2013-11-30</td>\n",
              "      <td>NaN</td>\n",
              "      <td>produit brut</td>\n",
              "      <td>clt 2</td>\n",
              "      <td>512.94</td>\n",
              "      <td>7</td>\n",
              "      <td>0.2</td>\n",
              "    </tr>\n",
              "    <tr>\n",
              "      <th>5001</th>\n",
              "      <td>2013-11-30</td>\n",
              "      <td>NaN</td>\n",
              "      <td>produit brut</td>\n",
              "      <td>clt 15</td>\n",
              "      <td>3614.98</td>\n",
              "      <td>7</td>\n",
              "      <td>0.2</td>\n",
              "    </tr>\n",
              "    <tr>\n",
              "      <th>5471</th>\n",
              "      <td>2013-12-31</td>\n",
              "      <td>NaN</td>\n",
              "      <td>produit brut</td>\n",
              "      <td>clt 2</td>\n",
              "      <td>474.20</td>\n",
              "      <td>7</td>\n",
              "      <td>0.2</td>\n",
              "    </tr>\n",
              "    <tr>\n",
              "      <th>5472</th>\n",
              "      <td>2013-12-31</td>\n",
              "      <td>NaN</td>\n",
              "      <td>produit brut</td>\n",
              "      <td>clt 15</td>\n",
              "      <td>3761.28</td>\n",
              "      <td>7</td>\n",
              "      <td>0.2</td>\n",
              "    </tr>\n",
              "  </tbody>\n",
              "</table>\n",
              "</div>\n",
              "      <button class=\"colab-df-convert\" onclick=\"convertToInteractive('df-2d7d0eb0-c03e-4929-9a67-87138bf80581')\"\n",
              "              title=\"Convert this dataframe to an interactive table.\"\n",
              "              style=\"display:none;\">\n",
              "        \n",
              "  <svg xmlns=\"http://www.w3.org/2000/svg\" height=\"24px\"viewBox=\"0 0 24 24\"\n",
              "       width=\"24px\">\n",
              "    <path d=\"M0 0h24v24H0V0z\" fill=\"none\"/>\n",
              "    <path d=\"M18.56 5.44l.94 2.06.94-2.06 2.06-.94-2.06-.94-.94-2.06-.94 2.06-2.06.94zm-11 1L8.5 8.5l.94-2.06 2.06-.94-2.06-.94L8.5 2.5l-.94 2.06-2.06.94zm10 10l.94 2.06.94-2.06 2.06-.94-2.06-.94-.94-2.06-.94 2.06-2.06.94z\"/><path d=\"M17.41 7.96l-1.37-1.37c-.4-.4-.92-.59-1.43-.59-.52 0-1.04.2-1.43.59L10.3 9.45l-7.72 7.72c-.78.78-.78 2.05 0 2.83L4 21.41c.39.39.9.59 1.41.59.51 0 1.02-.2 1.41-.59l7.78-7.78 2.81-2.81c.8-.78.8-2.07 0-2.86zM5.41 20L4 18.59l7.72-7.72 1.47 1.35L5.41 20z\"/>\n",
              "  </svg>\n",
              "      </button>\n",
              "      \n",
              "  <style>\n",
              "    .colab-df-container {\n",
              "      display:flex;\n",
              "      flex-wrap:wrap;\n",
              "      gap: 12px;\n",
              "    }\n",
              "\n",
              "    .colab-df-convert {\n",
              "      background-color: #E8F0FE;\n",
              "      border: none;\n",
              "      border-radius: 50%;\n",
              "      cursor: pointer;\n",
              "      display: none;\n",
              "      fill: #1967D2;\n",
              "      height: 32px;\n",
              "      padding: 0 0 0 0;\n",
              "      width: 32px;\n",
              "    }\n",
              "\n",
              "    .colab-df-convert:hover {\n",
              "      background-color: #E2EBFA;\n",
              "      box-shadow: 0px 1px 2px rgba(60, 64, 67, 0.3), 0px 1px 3px 1px rgba(60, 64, 67, 0.15);\n",
              "      fill: #174EA6;\n",
              "    }\n",
              "\n",
              "    [theme=dark] .colab-df-convert {\n",
              "      background-color: #3B4455;\n",
              "      fill: #D2E3FC;\n",
              "    }\n",
              "\n",
              "    [theme=dark] .colab-df-convert:hover {\n",
              "      background-color: #434B5C;\n",
              "      box-shadow: 0px 1px 3px 1px rgba(0, 0, 0, 0.15);\n",
              "      filter: drop-shadow(0px 1px 2px rgba(0, 0, 0, 0.3));\n",
              "      fill: #FFFFFF;\n",
              "    }\n",
              "  </style>\n",
              "\n",
              "      <script>\n",
              "        const buttonEl =\n",
              "          document.querySelector('#df-2d7d0eb0-c03e-4929-9a67-87138bf80581 button.colab-df-convert');\n",
              "        buttonEl.style.display =\n",
              "          google.colab.kernel.accessAllowed ? 'block' : 'none';\n",
              "\n",
              "        async function convertToInteractive(key) {\n",
              "          const element = document.querySelector('#df-2d7d0eb0-c03e-4929-9a67-87138bf80581');\n",
              "          const dataTable =\n",
              "            await google.colab.kernel.invokeFunction('convertToInteractive',\n",
              "                                                     [key], {});\n",
              "          if (!dataTable) return;\n",
              "\n",
              "          const docLinkHtml = 'Like what you see? Visit the ' +\n",
              "            '<a target=\"_blank\" href=https://colab.research.google.com/notebooks/data_table.ipynb>data table notebook</a>'\n",
              "            + ' to learn more about interactive tables.';\n",
              "          element.innerHTML = '';\n",
              "          dataTable['output_type'] = 'display_data';\n",
              "          await google.colab.output.renderOutput(dataTable, element);\n",
              "          const docLink = document.createElement('div');\n",
              "          docLink.innerHTML = docLinkHtml;\n",
              "          element.appendChild(docLink);\n",
              "        }\n",
              "      </script>\n",
              "    </div>\n",
              "  </div>\n",
              "  "
            ]
          },
          "metadata": {},
          "execution_count": 10
        }
      ]
    },
    {
      "cell_type": "markdown",
      "source": [
        "les veleurs manquantes? apres verification avec le clients il nous informer que s'agitent ils des produit brut vendu par un nouveau centre que nous lui donne le code C_nv\n",
        "\n",
        "nous avons modifier les valeurs manquantes par son nouveau code"
      ],
      "metadata": {
        "id": "53P5CsJQqYjX"
      }
    },
    {
      "cell_type": "code",
      "source": [
        "vente.fillna(\"C_nv\", inplace=True)"
      ],
      "metadata": {
        "id": "RYwCeMKMq8wR"
      },
      "execution_count": null,
      "outputs": []
    },
    {
      "cell_type": "code",
      "source": [
        "vente.isnull().sum()"
      ],
      "metadata": {
        "colab": {
          "base_uri": "https://localhost:8080/"
        },
        "id": "PdgBfALlqujW",
        "outputId": "a1dd6dd2-ef05-4e1d-f07d-4eb232f75f61"
      },
      "execution_count": null,
      "outputs": [
        {
          "output_type": "execute_result",
          "data": {
            "text/plain": [
              "Date                0\n",
              "Centres_Activite    0\n",
              "Produits            0\n",
              "Clients             0\n",
              "Qte_Vendue          0\n",
              "prix                0\n",
              "taxe                0\n",
              "dtype: int64"
            ]
          },
          "metadata": {},
          "execution_count": 12
        }
      ]
    },
    {
      "cell_type": "markdown",
      "source": [
        "nous ajouterons deux nouvelles colonne : mois et année, mais avant nous devons s'assuer du format date et de la transformer sous format Datetime"
      ],
      "metadata": {
        "id": "oFm3luUjItpQ"
      }
    },
    {
      "cell_type": "code",
      "source": [
        "vente[\"année\"] = vente['Date '].dt.year\n",
        "vente[\"mois\"] = vente['Date '].dt.strftime(\"%B\")"
      ],
      "metadata": {
        "id": "g3ksEC39IyLw"
      },
      "execution_count": null,
      "outputs": []
    },
    {
      "cell_type": "code",
      "source": [
        "vente.tail()"
      ],
      "metadata": {
        "colab": {
          "base_uri": "https://localhost:8080/",
          "height": 206
        },
        "id": "8ODXRX6hrZs3",
        "outputId": "f7d88dd1-43c1-4bf6-a8f7-f50478fcf821"
      },
      "execution_count": null,
      "outputs": [
        {
          "output_type": "execute_result",
          "data": {
            "text/plain": [
              "          Date  Centres_Activite       Produits Clients  Qte_Vendue  prix  \\\n",
              "5619 2013-12-31           CTR 12  produit 120kg  clt 13       0.636    42   \n",
              "5620 2013-12-31           CTR 12  produit 120kg  clt 11       4.476    42   \n",
              "5621 2013-12-31           CTR 12  produit 120kg   clt 5      25.272    42   \n",
              "5622 2013-12-31           CTR 12  produit 120kg   clt 6       0.504    42   \n",
              "5623 2013-12-31           CTR 12  produit 120kg   clt 7       7.536    42   \n",
              "\n",
              "      taxe  année      mois  \n",
              "5619   0.2   2013  December  \n",
              "5620   0.2   2013  December  \n",
              "5621   0.2   2013  December  \n",
              "5622   0.2   2013  December  \n",
              "5623   0.2   2013  December  "
            ],
            "text/html": [
              "\n",
              "  <div id=\"df-4cb55f1d-8bfc-4459-b999-46ceb1fd1505\">\n",
              "    <div class=\"colab-df-container\">\n",
              "      <div>\n",
              "<style scoped>\n",
              "    .dataframe tbody tr th:only-of-type {\n",
              "        vertical-align: middle;\n",
              "    }\n",
              "\n",
              "    .dataframe tbody tr th {\n",
              "        vertical-align: top;\n",
              "    }\n",
              "\n",
              "    .dataframe thead th {\n",
              "        text-align: right;\n",
              "    }\n",
              "</style>\n",
              "<table border=\"1\" class=\"dataframe\">\n",
              "  <thead>\n",
              "    <tr style=\"text-align: right;\">\n",
              "      <th></th>\n",
              "      <th>Date</th>\n",
              "      <th>Centres_Activite</th>\n",
              "      <th>Produits</th>\n",
              "      <th>Clients</th>\n",
              "      <th>Qte_Vendue</th>\n",
              "      <th>prix</th>\n",
              "      <th>taxe</th>\n",
              "      <th>année</th>\n",
              "      <th>mois</th>\n",
              "    </tr>\n",
              "  </thead>\n",
              "  <tbody>\n",
              "    <tr>\n",
              "      <th>5619</th>\n",
              "      <td>2013-12-31</td>\n",
              "      <td>CTR 12</td>\n",
              "      <td>produit 120kg</td>\n",
              "      <td>clt 13</td>\n",
              "      <td>0.636</td>\n",
              "      <td>42</td>\n",
              "      <td>0.2</td>\n",
              "      <td>2013</td>\n",
              "      <td>December</td>\n",
              "    </tr>\n",
              "    <tr>\n",
              "      <th>5620</th>\n",
              "      <td>2013-12-31</td>\n",
              "      <td>CTR 12</td>\n",
              "      <td>produit 120kg</td>\n",
              "      <td>clt 11</td>\n",
              "      <td>4.476</td>\n",
              "      <td>42</td>\n",
              "      <td>0.2</td>\n",
              "      <td>2013</td>\n",
              "      <td>December</td>\n",
              "    </tr>\n",
              "    <tr>\n",
              "      <th>5621</th>\n",
              "      <td>2013-12-31</td>\n",
              "      <td>CTR 12</td>\n",
              "      <td>produit 120kg</td>\n",
              "      <td>clt 5</td>\n",
              "      <td>25.272</td>\n",
              "      <td>42</td>\n",
              "      <td>0.2</td>\n",
              "      <td>2013</td>\n",
              "      <td>December</td>\n",
              "    </tr>\n",
              "    <tr>\n",
              "      <th>5622</th>\n",
              "      <td>2013-12-31</td>\n",
              "      <td>CTR 12</td>\n",
              "      <td>produit 120kg</td>\n",
              "      <td>clt 6</td>\n",
              "      <td>0.504</td>\n",
              "      <td>42</td>\n",
              "      <td>0.2</td>\n",
              "      <td>2013</td>\n",
              "      <td>December</td>\n",
              "    </tr>\n",
              "    <tr>\n",
              "      <th>5623</th>\n",
              "      <td>2013-12-31</td>\n",
              "      <td>CTR 12</td>\n",
              "      <td>produit 120kg</td>\n",
              "      <td>clt 7</td>\n",
              "      <td>7.536</td>\n",
              "      <td>42</td>\n",
              "      <td>0.2</td>\n",
              "      <td>2013</td>\n",
              "      <td>December</td>\n",
              "    </tr>\n",
              "  </tbody>\n",
              "</table>\n",
              "</div>\n",
              "      <button class=\"colab-df-convert\" onclick=\"convertToInteractive('df-4cb55f1d-8bfc-4459-b999-46ceb1fd1505')\"\n",
              "              title=\"Convert this dataframe to an interactive table.\"\n",
              "              style=\"display:none;\">\n",
              "        \n",
              "  <svg xmlns=\"http://www.w3.org/2000/svg\" height=\"24px\"viewBox=\"0 0 24 24\"\n",
              "       width=\"24px\">\n",
              "    <path d=\"M0 0h24v24H0V0z\" fill=\"none\"/>\n",
              "    <path d=\"M18.56 5.44l.94 2.06.94-2.06 2.06-.94-2.06-.94-.94-2.06-.94 2.06-2.06.94zm-11 1L8.5 8.5l.94-2.06 2.06-.94-2.06-.94L8.5 2.5l-.94 2.06-2.06.94zm10 10l.94 2.06.94-2.06 2.06-.94-2.06-.94-.94-2.06-.94 2.06-2.06.94z\"/><path d=\"M17.41 7.96l-1.37-1.37c-.4-.4-.92-.59-1.43-.59-.52 0-1.04.2-1.43.59L10.3 9.45l-7.72 7.72c-.78.78-.78 2.05 0 2.83L4 21.41c.39.39.9.59 1.41.59.51 0 1.02-.2 1.41-.59l7.78-7.78 2.81-2.81c.8-.78.8-2.07 0-2.86zM5.41 20L4 18.59l7.72-7.72 1.47 1.35L5.41 20z\"/>\n",
              "  </svg>\n",
              "      </button>\n",
              "      \n",
              "  <style>\n",
              "    .colab-df-container {\n",
              "      display:flex;\n",
              "      flex-wrap:wrap;\n",
              "      gap: 12px;\n",
              "    }\n",
              "\n",
              "    .colab-df-convert {\n",
              "      background-color: #E8F0FE;\n",
              "      border: none;\n",
              "      border-radius: 50%;\n",
              "      cursor: pointer;\n",
              "      display: none;\n",
              "      fill: #1967D2;\n",
              "      height: 32px;\n",
              "      padding: 0 0 0 0;\n",
              "      width: 32px;\n",
              "    }\n",
              "\n",
              "    .colab-df-convert:hover {\n",
              "      background-color: #E2EBFA;\n",
              "      box-shadow: 0px 1px 2px rgba(60, 64, 67, 0.3), 0px 1px 3px 1px rgba(60, 64, 67, 0.15);\n",
              "      fill: #174EA6;\n",
              "    }\n",
              "\n",
              "    [theme=dark] .colab-df-convert {\n",
              "      background-color: #3B4455;\n",
              "      fill: #D2E3FC;\n",
              "    }\n",
              "\n",
              "    [theme=dark] .colab-df-convert:hover {\n",
              "      background-color: #434B5C;\n",
              "      box-shadow: 0px 1px 3px 1px rgba(0, 0, 0, 0.15);\n",
              "      filter: drop-shadow(0px 1px 2px rgba(0, 0, 0, 0.3));\n",
              "      fill: #FFFFFF;\n",
              "    }\n",
              "  </style>\n",
              "\n",
              "      <script>\n",
              "        const buttonEl =\n",
              "          document.querySelector('#df-4cb55f1d-8bfc-4459-b999-46ceb1fd1505 button.colab-df-convert');\n",
              "        buttonEl.style.display =\n",
              "          google.colab.kernel.accessAllowed ? 'block' : 'none';\n",
              "\n",
              "        async function convertToInteractive(key) {\n",
              "          const element = document.querySelector('#df-4cb55f1d-8bfc-4459-b999-46ceb1fd1505');\n",
              "          const dataTable =\n",
              "            await google.colab.kernel.invokeFunction('convertToInteractive',\n",
              "                                                     [key], {});\n",
              "          if (!dataTable) return;\n",
              "\n",
              "          const docLinkHtml = 'Like what you see? Visit the ' +\n",
              "            '<a target=\"_blank\" href=https://colab.research.google.com/notebooks/data_table.ipynb>data table notebook</a>'\n",
              "            + ' to learn more about interactive tables.';\n",
              "          element.innerHTML = '';\n",
              "          dataTable['output_type'] = 'display_data';\n",
              "          await google.colab.output.renderOutput(dataTable, element);\n",
              "          const docLink = document.createElement('div');\n",
              "          docLink.innerHTML = docLinkHtml;\n",
              "          element.appendChild(docLink);\n",
              "        }\n",
              "      </script>\n",
              "    </div>\n",
              "  </div>\n",
              "  "
            ]
          },
          "metadata": {},
          "execution_count": 14
        }
      ]
    },
    {
      "cell_type": "markdown",
      "source": [
        "maintenant nous voulons calculer KPi\n",
        "* chiffre d'affaire hors taxe\n",
        "* top des clients\n",
        "* le produit le plus vendu\n",
        "* centre d'activité le plus productif\n",
        "* chiffre d'affaire par mois"
      ],
      "metadata": {
        "id": "9VUlPJnaJtzp"
      }
    },
    {
      "cell_type": "code",
      "source": [
        "vente['chiffre_affaire_HT'] = vente['Qte_Vendue'] * vente['prix']\n",
        "vente['montant_taxe'] = vente['chiffre_affaire_HT'] * vente['taxe']\n",
        "vente['chiffre_affaire_TTC'] = vente['chiffre_affaire_HT'] - vente['montant_taxe']"
      ],
      "metadata": {
        "id": "wHrkxcSJKbMd"
      },
      "execution_count": null,
      "outputs": []
    },
    {
      "cell_type": "code",
      "source": [
        "vente_ = vente.sort_values('chiffre_affaire_TTC').groupby('Produits').sum().sort_index()\n",
        "vente_.head()"
      ],
      "metadata": {
        "colab": {
          "base_uri": "https://localhost:8080/",
          "height": 237
        },
        "id": "6EH4sRnzbZ1V",
        "outputId": "30a027a0-88b1-47d4-ec7d-440ac1c762ee"
      },
      "execution_count": null,
      "outputs": [
        {
          "output_type": "execute_result",
          "data": {
            "text/plain": [
              "               Qte_Vendue    prix   taxe    année  chiffre_affaire_HT  \\\n",
              "Produits                                                                \n",
              "produit 120kg  491199.456   85554  407.4  4100481        2.063038e+07   \n",
              "produit 30kg   104093.036   17560  351.2  3534828        1.040930e+06   \n",
              "produit 340kg    3763.274  203520  127.2  1280309        1.204248e+06   \n",
              "produit 60kg    21731.636   17505  233.4  2349171        3.259745e+05   \n",
              "produit brut    49912.480     196    5.6    56364        3.493874e+05   \n",
              "\n",
              "               montant_taxe  chiffre_affaire_TTC  \n",
              "Produits                                          \n",
              "produit 120kg  4.126075e+06         1.650430e+07  \n",
              "produit 30kg   2.081861e+05         8.327443e+05  \n",
              "produit 340kg  2.408495e+05         9.633981e+05  \n",
              "produit 60kg   6.519491e+04         2.607796e+05  \n",
              "produit brut   6.987747e+04         2.795099e+05  "
            ],
            "text/html": [
              "\n",
              "  <div id=\"df-29fbc2d8-3d5a-4dac-8fef-4e106cc00f90\">\n",
              "    <div class=\"colab-df-container\">\n",
              "      <div>\n",
              "<style scoped>\n",
              "    .dataframe tbody tr th:only-of-type {\n",
              "        vertical-align: middle;\n",
              "    }\n",
              "\n",
              "    .dataframe tbody tr th {\n",
              "        vertical-align: top;\n",
              "    }\n",
              "\n",
              "    .dataframe thead th {\n",
              "        text-align: right;\n",
              "    }\n",
              "</style>\n",
              "<table border=\"1\" class=\"dataframe\">\n",
              "  <thead>\n",
              "    <tr style=\"text-align: right;\">\n",
              "      <th></th>\n",
              "      <th>Qte_Vendue</th>\n",
              "      <th>prix</th>\n",
              "      <th>taxe</th>\n",
              "      <th>année</th>\n",
              "      <th>chiffre_affaire_HT</th>\n",
              "      <th>montant_taxe</th>\n",
              "      <th>chiffre_affaire_TTC</th>\n",
              "    </tr>\n",
              "    <tr>\n",
              "      <th>Produits</th>\n",
              "      <th></th>\n",
              "      <th></th>\n",
              "      <th></th>\n",
              "      <th></th>\n",
              "      <th></th>\n",
              "      <th></th>\n",
              "      <th></th>\n",
              "    </tr>\n",
              "  </thead>\n",
              "  <tbody>\n",
              "    <tr>\n",
              "      <th>produit 120kg</th>\n",
              "      <td>491199.456</td>\n",
              "      <td>85554</td>\n",
              "      <td>407.4</td>\n",
              "      <td>4100481</td>\n",
              "      <td>2.063038e+07</td>\n",
              "      <td>4.126075e+06</td>\n",
              "      <td>1.650430e+07</td>\n",
              "    </tr>\n",
              "    <tr>\n",
              "      <th>produit 30kg</th>\n",
              "      <td>104093.036</td>\n",
              "      <td>17560</td>\n",
              "      <td>351.2</td>\n",
              "      <td>3534828</td>\n",
              "      <td>1.040930e+06</td>\n",
              "      <td>2.081861e+05</td>\n",
              "      <td>8.327443e+05</td>\n",
              "    </tr>\n",
              "    <tr>\n",
              "      <th>produit 340kg</th>\n",
              "      <td>3763.274</td>\n",
              "      <td>203520</td>\n",
              "      <td>127.2</td>\n",
              "      <td>1280309</td>\n",
              "      <td>1.204248e+06</td>\n",
              "      <td>2.408495e+05</td>\n",
              "      <td>9.633981e+05</td>\n",
              "    </tr>\n",
              "    <tr>\n",
              "      <th>produit 60kg</th>\n",
              "      <td>21731.636</td>\n",
              "      <td>17505</td>\n",
              "      <td>233.4</td>\n",
              "      <td>2349171</td>\n",
              "      <td>3.259745e+05</td>\n",
              "      <td>6.519491e+04</td>\n",
              "      <td>2.607796e+05</td>\n",
              "    </tr>\n",
              "    <tr>\n",
              "      <th>produit brut</th>\n",
              "      <td>49912.480</td>\n",
              "      <td>196</td>\n",
              "      <td>5.6</td>\n",
              "      <td>56364</td>\n",
              "      <td>3.493874e+05</td>\n",
              "      <td>6.987747e+04</td>\n",
              "      <td>2.795099e+05</td>\n",
              "    </tr>\n",
              "  </tbody>\n",
              "</table>\n",
              "</div>\n",
              "      <button class=\"colab-df-convert\" onclick=\"convertToInteractive('df-29fbc2d8-3d5a-4dac-8fef-4e106cc00f90')\"\n",
              "              title=\"Convert this dataframe to an interactive table.\"\n",
              "              style=\"display:none;\">\n",
              "        \n",
              "  <svg xmlns=\"http://www.w3.org/2000/svg\" height=\"24px\"viewBox=\"0 0 24 24\"\n",
              "       width=\"24px\">\n",
              "    <path d=\"M0 0h24v24H0V0z\" fill=\"none\"/>\n",
              "    <path d=\"M18.56 5.44l.94 2.06.94-2.06 2.06-.94-2.06-.94-.94-2.06-.94 2.06-2.06.94zm-11 1L8.5 8.5l.94-2.06 2.06-.94-2.06-.94L8.5 2.5l-.94 2.06-2.06.94zm10 10l.94 2.06.94-2.06 2.06-.94-2.06-.94-.94-2.06-.94 2.06-2.06.94z\"/><path d=\"M17.41 7.96l-1.37-1.37c-.4-.4-.92-.59-1.43-.59-.52 0-1.04.2-1.43.59L10.3 9.45l-7.72 7.72c-.78.78-.78 2.05 0 2.83L4 21.41c.39.39.9.59 1.41.59.51 0 1.02-.2 1.41-.59l7.78-7.78 2.81-2.81c.8-.78.8-2.07 0-2.86zM5.41 20L4 18.59l7.72-7.72 1.47 1.35L5.41 20z\"/>\n",
              "  </svg>\n",
              "      </button>\n",
              "      \n",
              "  <style>\n",
              "    .colab-df-container {\n",
              "      display:flex;\n",
              "      flex-wrap:wrap;\n",
              "      gap: 12px;\n",
              "    }\n",
              "\n",
              "    .colab-df-convert {\n",
              "      background-color: #E8F0FE;\n",
              "      border: none;\n",
              "      border-radius: 50%;\n",
              "      cursor: pointer;\n",
              "      display: none;\n",
              "      fill: #1967D2;\n",
              "      height: 32px;\n",
              "      padding: 0 0 0 0;\n",
              "      width: 32px;\n",
              "    }\n",
              "\n",
              "    .colab-df-convert:hover {\n",
              "      background-color: #E2EBFA;\n",
              "      box-shadow: 0px 1px 2px rgba(60, 64, 67, 0.3), 0px 1px 3px 1px rgba(60, 64, 67, 0.15);\n",
              "      fill: #174EA6;\n",
              "    }\n",
              "\n",
              "    [theme=dark] .colab-df-convert {\n",
              "      background-color: #3B4455;\n",
              "      fill: #D2E3FC;\n",
              "    }\n",
              "\n",
              "    [theme=dark] .colab-df-convert:hover {\n",
              "      background-color: #434B5C;\n",
              "      box-shadow: 0px 1px 3px 1px rgba(0, 0, 0, 0.15);\n",
              "      filter: drop-shadow(0px 1px 2px rgba(0, 0, 0, 0.3));\n",
              "      fill: #FFFFFF;\n",
              "    }\n",
              "  </style>\n",
              "\n",
              "      <script>\n",
              "        const buttonEl =\n",
              "          document.querySelector('#df-29fbc2d8-3d5a-4dac-8fef-4e106cc00f90 button.colab-df-convert');\n",
              "        buttonEl.style.display =\n",
              "          google.colab.kernel.accessAllowed ? 'block' : 'none';\n",
              "\n",
              "        async function convertToInteractive(key) {\n",
              "          const element = document.querySelector('#df-29fbc2d8-3d5a-4dac-8fef-4e106cc00f90');\n",
              "          const dataTable =\n",
              "            await google.colab.kernel.invokeFunction('convertToInteractive',\n",
              "                                                     [key], {});\n",
              "          if (!dataTable) return;\n",
              "\n",
              "          const docLinkHtml = 'Like what you see? Visit the ' +\n",
              "            '<a target=\"_blank\" href=https://colab.research.google.com/notebooks/data_table.ipynb>data table notebook</a>'\n",
              "            + ' to learn more about interactive tables.';\n",
              "          element.innerHTML = '';\n",
              "          dataTable['output_type'] = 'display_data';\n",
              "          await google.colab.output.renderOutput(dataTable, element);\n",
              "          const docLink = document.createElement('div');\n",
              "          docLink.innerHTML = docLinkHtml;\n",
              "          element.appendChild(docLink);\n",
              "        }\n",
              "      </script>\n",
              "    </div>\n",
              "  </div>\n",
              "  "
            ]
          },
          "metadata": {},
          "execution_count": 16
        }
      ]
    },
    {
      "cell_type": "code",
      "source": [
        "plt.bar(vente[\"Produits\"], vente[\"chiffre_affaire_TTC\"])\n",
        "plt.xticks(rotation= \"vertical\")"
      ],
      "metadata": {
        "colab": {
          "base_uri": "https://localhost:8080/",
          "height": 342
        },
        "id": "YvsYiK9balc2",
        "outputId": "bf023ab1-61ce-4233-fead-d35fb970065b"
      },
      "execution_count": null,
      "outputs": [
        {
          "output_type": "execute_result",
          "data": {
            "text/plain": [
              "([0, 1, 2, 3, 4], <a list of 5 Text major ticklabel objects>)"
            ]
          },
          "metadata": {},
          "execution_count": 73
        },
        {
          "output_type": "display_data",
          "data": {
            "text/plain": [
              "<Figure size 432x288 with 1 Axes>"
            ],
            "image/png": "[encoded data removed]"
          },
          "metadata": {
            "needs_background": "light"
          }
        }
      ]
    },
    {
      "cell_type": "code",
      "source": [
        "plt.bar(vente[\"Centres_Activite\"], vente[\"chiffre_affaire_TTC\"], color= 'C1')\n",
        "plt.xlabel(\"Centres_Activite\")\n",
        "plt.xlabel(\"chiffre_affaire_TTC\")\n",
        "plt.title(\"chiffre d'affaire par Centres d'activité\")\n",
        "plt.xticks(rotation= \"vertical\")\n",
        "plt.show()"
      ],
      "metadata": {
        "colab": {
          "base_uri": "https://localhost:8080/",
          "height": 322
        },
        "id": "d9mHLqIUb8kc",
        "outputId": "9a4955e7-bdde-4f8a-eca0-73b377204a5b"
      },
      "execution_count": null,
      "outputs": [
        {
          "output_type": "display_data",
          "data": {
            "text/plain": [
              "<Figure size 432x288 with 1 Axes>"
            ],
            "image/png": "[encoded data removed]"
          },
          "metadata": {
            "needs_background": "light"
          }
        }
      ]
    },
    {
      "cell_type": "code",
      "source": [
        "# sns.barplot(x = vente['Produits'], y= vente['chiffre_affaire_TTC'])\n",
        "\n",
        "sns.barplot(x = 'Produits', y= 'chiffre_affaire_TTC' , data =vente, ci= None)\n",
        "plt.xticks(rotation= \"vertical\")"
      ],
      "metadata": {
        "colab": {
          "base_uri": "https://localhost:8080/",
          "height": 356
        },
        "id": "29f6ofrIM5np",
        "outputId": "bd4fc009-6ec8-4b9a-9f4c-49890d1f1b64"
      },
      "execution_count": null,
      "outputs": [
        {
          "output_type": "execute_result",
          "data": {
            "text/plain": [
              "(array([0, 1, 2, 3, 4]), <a list of 5 Text major ticklabel objects>)"
            ]
          },
          "metadata": {},
          "execution_count": 75
        },
        {
          "output_type": "display_data",
          "data": {
            "text/plain": [
              "<Figure size 432x288 with 1 Axes>"
            ],
            "image/png": "[encoded data removed]"
          },
          "metadata": {
            "needs_background": "light"
          }
        }
      ]
    },
    {
      "cell_type": "code",
      "source": [
        "sns.barplot(x = 'chiffre_affaire_TTC', y= 'Produits' , data =vente)"
      ],
      "metadata": {
        "colab": {
          "base_uri": "https://localhost:8080/",
          "height": 297
        },
        "id": "bg9guYfKSkyc",
        "outputId": "4b31c1bb-232f-42de-ee37-35f5a5cda51e"
      },
      "execution_count": null,
      "outputs": [
        {
          "output_type": "execute_result",
          "data": {
            "text/plain": [
              "<matplotlib.axes._subplots.AxesSubplot at 0x7fc3693fb5b0>"
            ]
          },
          "metadata": {},
          "execution_count": 45
        },
        {
          "output_type": "display_data",
          "data": {
            "text/plain": [
              "<Figure size 432x288 with 1 Axes>"
            ],
            "image/png": "[encoded data removed]"
          },
          "metadata": {
            "needs_background": "light"
          }
        }
      ]
    },
    {
      "cell_type": "code",
      "source": [
        "sns.countplot(x = 'Produits', data = vente)\n",
        "plt.xticks(rotation= \"vertical\")"
      ],
      "metadata": {
        "colab": {
          "base_uri": "https://localhost:8080/",
          "height": 356
        },
        "id": "hGOkv0UIRWE_",
        "outputId": "37d970e4-1ce1-4808-abd9-26dd5b308748"
      },
      "execution_count": null,
      "outputs": [
        {
          "output_type": "execute_result",
          "data": {
            "text/plain": [
              "(array([0, 1, 2, 3, 4]), <a list of 5 Text major ticklabel objects>)"
            ]
          },
          "metadata": {},
          "execution_count": 76
        },
        {
          "output_type": "display_data",
          "data": {
            "text/plain": [
              "<Figure size 432x288 with 1 Axes>"
            ],
            "image/png": "[encoded data removed]"
          },
          "metadata": {
            "needs_background": "light"
          }
        }
      ]
    },
    {
      "cell_type": "code",
      "source": [
        "vente.groupby('mois')['chiffre_affaire_TTC'].sum()\n"
      ],
      "metadata": {
        "colab": {
          "base_uri": "https://localhost:8080/"
        },
        "id": "4TNa25MbRtGa",
        "outputId": "b499b2cb-adbc-4627-868d-23b2f1a83fe7"
      },
      "execution_count": null,
      "outputs": [
        {
          "output_type": "execute_result",
          "data": {
            "text/plain": [
              "mois\n",
              "April        1.618485e+06\n",
              "August       1.504332e+06\n",
              "December     1.625452e+06\n",
              "February     1.848906e+06\n",
              "January      1.608477e+06\n",
              "July         1.705460e+06\n",
              "June         1.503682e+06\n",
              "March        1.538362e+06\n",
              "May          1.635671e+06\n",
              "November     1.469577e+06\n",
              "October      1.447096e+06\n",
              "September    1.335234e+06\n",
              "Name: chiffre_affaire_TTC, dtype: float64"
            ]
          },
          "metadata": {},
          "execution_count": 58
        }
      ]
    },
    {
      "cell_type": "code",
      "source": [
        "mois = range(1,13)\n",
        "plt.bar(mois,vente.groupby('mois')['chiffre_affaire_TTC'].sum())\n",
        "plt.xlabel(\"chiffre_affarire_ttc\")\n",
        "plt.ylabel('mois')\n",
        "plt.title('le chiffre affaire par mois')\n",
        "plt.show()"
      ],
      "metadata": {
        "colab": {
          "base_uri": "https://localhost:8080/",
          "height": 296
        },
        "id": "-yFzLpODktqT",
        "outputId": "115b9ef8-8179-4220-b7a7-95058cc10e4f"
      },
      "execution_count": null,
      "outputs": [
        {
          "output_type": "display_data",
          "data": {
            "text/plain": [
              "<Figure size 432x288 with 1 Axes>"
            ],
            "image/png": "[encoded data removed]"
          },
          "metadata": {
            "needs_background": "light"
          }
        }
      ]
    },
    {
      "cell_type": "code",
      "source": [
        "# vente[\"mois\"].unique()\n",
        "CA_mois = plt.bar(vente[\"mois\"], vente[\"chiffre_affaire_TTC\"], color=\"C7\")\n",
        "plt.xticks(rotation= \"vertical\")\n",
        "plt.show()"
      ],
      "metadata": {
        "colab": {
          "base_uri": "https://localhost:8080/",
          "height": 310
        },
        "id": "LEyvqTL6Ly5o",
        "outputId": "261c296e-69e8-4324-c393-ceb9a5591214"
      },
      "execution_count": null,
      "outputs": [
        {
          "output_type": "display_data",
          "data": {
            "text/plain": [
              "<Figure size 432x288 with 1 Axes>"
            ],
            "image/png": "[encoded data removed]"
          },
          "metadata": {
            "needs_background": "light"
          }
        }
      ]
    },
    {
      "cell_type": "code",
      "source": [
        "# tableau de bord \n",
        "\n",
        "fig, axes = plt.subplots(2,2)\n",
        "fig.set_size_inches(10,15)\n",
        "axes[0,0].bar(vente[\"Produits\"], vente[\"chiffre_affaire_TTC\"], color='C7')\n",
        "axes[0,1].bar(vente[\"Clients\"], vente[\"chiffre_affaire_TTC\"], color='C9')\n",
        "axes[1,0].bar(vente[\"mois\"], vente[\"chiffre_affaire_TTC\"], color='C5')\n",
        "axes[1,1].bar(vente[\"Centres_Activite\"], vente[\"chiffre_affaire_TTC\"], color='C1')"
      ],
      "metadata": {
        "colab": {
          "base_uri": "https://localhost:8080/",
          "height": 881
        },
        "id": "a0gQ-ENbT1PW",
        "outputId": "db2e6e4b-6bd0-4ff5-9147-10e7c9a741e9"
      },
      "execution_count": null,
      "outputs": [
        {
          "output_type": "execute_result",
          "data": {
            "text/plain": [
              "<BarContainer object of 5624 artists>"
            ]
          },
          "metadata": {},
          "execution_count": 90
        },
        {
          "output_type": "display_data",
          "data": {
            "text/plain": [
              "<Figure size 720x1080 with 4 Axes>"
            ],
            "image/png": "[encoded data removed]"
          },
          "metadata": {
            "needs_background": "light"
          }
        }
      ]
    },
    {
      "cell_type": "markdown",
      "source": [
        "recommandations:\n",
        "\n",
        "nous constatons que la sociéte réalise a chiffre d'afaire important.\n",
        "le client 12 est le plus important que nous proposons de lui octroyé une remise\n",
        "nous constatons aussi que le centre d'activité n 12 est le plus important ainsi que le centre 1 et 3 qu'ils nécessitent des actions marketing courageuse.\n",
        "le mois de juillet constitue la haute saison "
      ],
      "metadata": {
        "id": "5Fw9D87ZuDS7"
      }
    },
    {
      "cell_type": "code",
      "source": [],
      "metadata": {
        "id": "fa0MCjj0zxb5"
      },
      "execution_count": null,
      "outputs": []
    }
  ]
}