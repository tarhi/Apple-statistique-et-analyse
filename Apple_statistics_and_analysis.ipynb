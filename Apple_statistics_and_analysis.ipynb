{
  "nbformat": 4,
  "nbformat_minor": 0,
  "metadata": {
    "colab": {
      "provenance": [],
      "authorship_tag": "ABX9TyPZvCAKpBtdl+kyO6tuX6+z",
      "include_colab_link": true
    },
    "kernelspec": {
      "name": "python3",
      "display_name": "Python 3"
    },
    "language_info": {
      "name": "python"
    }
  },
  "cells": [
    {
      "cell_type": "markdown",
      "metadata": {
        "id": "view-in-github",
        "colab_type": "text"
      },
      "source": [
        "<a href=\"https://colab.research.google.com/github/tarhi/Apple-statistique-et-analyse/blob/main/Apple_statistics_and_analysis.ipynb\" target=\"_parent\"><img src=\"https://colab.research.google.com/assets/colab-badge.svg\" alt=\"Open In Colab\"/></a>"
      ]
    },
    {
      "cell_type": "markdown",
      "source": [
        "Action Apple :\n",
        "Dans ce cas, Nous étudierons une distribution normale de l’action Apple entre 2005 et 2017 a travers une analyse statistique pour prédire, prendre une décision et modéliser le rendement boursier c’est la 1er stratégie de trading simple pour savoir à quel moment nous achèterons des actions et quand nous voulons les vendre a fin de générer le maximum de profil et éviter le risque d’investir de l’argent dans les actions Apple.\n",
        "Dans l’analyse financière, il est important d’identifier les variables importantes pour nous aider a faire de meilleurs prévisions et a prendre des meilleurs décisions\n",
        "Tout d’abord nous importons les bibliothèques nécessaires afin de faire découvrir, nettoyer, analyser et visualiser les différents variables.\n"
      ],
      "metadata": {
        "id": "l9MYUv3k_Aa2"
      }
    },
    {
      "cell_type": "code",
      "source": [
        "import pandas as pd\n",
        "import numpy as np\n",
        "import matplotlib.pyplot as plt\n",
        "import seaborn as sns"
      ],
      "metadata": {
        "id": "QqqD9ZNyExCt"
      },
      "execution_count": null,
      "outputs": []
    },
    {
      "cell_type": "code",
      "source": [
        "apple = pd.read_csv('/content/apple.csv', index_col=0)\n",
        "apple.head()"
      ],
      "metadata": {
        "colab": {
          "base_uri": "https://localhost:8080/",
          "height": 237
        },
        "id": "VsG88B4VN4hb",
        "outputId": "f49b7909-d79f-4057-c833-e08f8892a70c"
      },
      "execution_count": null,
      "outputs": [
        {
          "output_type": "execute_result",
          "data": {
            "text/plain": [
              "                 Open       High        Low      Close  Adj Close     Volume\n",
              "Date                                                                        \n",
              "2006-10-02  10.728572  10.838572  10.614285  10.694285   7.239566  178159800\n",
              "2006-10-03  10.635715  10.707143  10.455714  10.582857   7.164135  197677200\n",
              "2006-10-04  10.585714  10.780000  10.451428  10.768572   7.289855  207270700\n",
              "2006-10-05  10.647142  10.880000  10.590000  10.690000   7.236666  170970800\n",
              "2006-10-06  10.631429  10.720000  10.544286  10.602858   7.177672  116739700"
            ],
            "text/html": [
              "\n",
              "  <div id=\"df-c6997484-b4e0-43b3-b70c-a908c5cda27a\">\n",
              "    <div class=\"colab-df-container\">\n",
              "      <div>\n",
              "<style scoped>\n",
              "    .dataframe tbody tr th:only-of-type {\n",
              "        vertical-align: middle;\n",
              "    }\n",
              "\n",
              "    .dataframe tbody tr th {\n",
              "        vertical-align: top;\n",
              "    }\n",
              "\n",
              "    .dataframe thead th {\n",
              "        text-align: right;\n",
              "    }\n",
              "</style>\n",
              "<table border=\"1\" class=\"dataframe\">\n",
              "  <thead>\n",
              "    <tr style=\"text-align: right;\">\n",
              "      <th></th>\n",
              "      <th>Open</th>\n",
              "      <th>High</th>\n",
              "      <th>Low</th>\n",
              "      <th>Close</th>\n",
              "      <th>Adj Close</th>\n",
              "      <th>Volume</th>\n",
              "    </tr>\n",
              "    <tr>\n",
              "      <th>Date</th>\n",
              "      <th></th>\n",
              "      <th></th>\n",
              "      <th></th>\n",
              "      <th></th>\n",
              "      <th></th>\n",
              "      <th></th>\n",
              "    </tr>\n",
              "  </thead>\n",
              "  <tbody>\n",
              "    <tr>\n",
              "      <th>2006-10-02</th>\n",
              "      <td>10.728572</td>\n",
              "      <td>10.838572</td>\n",
              "      <td>10.614285</td>\n",
              "      <td>10.694285</td>\n",
              "      <td>7.239566</td>\n",
              "      <td>178159800</td>\n",
              "    </tr>\n",
              "    <tr>\n",
              "      <th>2006-10-03</th>\n",
              "      <td>10.635715</td>\n",
              "      <td>10.707143</td>\n",
              "      <td>10.455714</td>\n",
              "      <td>10.582857</td>\n",
              "      <td>7.164135</td>\n",
              "      <td>197677200</td>\n",
              "    </tr>\n",
              "    <tr>\n",
              "      <th>2006-10-04</th>\n",
              "      <td>10.585714</td>\n",
              "      <td>10.780000</td>\n",
              "      <td>10.451428</td>\n",
              "      <td>10.768572</td>\n",
              "      <td>7.289855</td>\n",
              "      <td>207270700</td>\n",
              "    </tr>\n",
              "    <tr>\n",
              "      <th>2006-10-05</th>\n",
              "      <td>10.647142</td>\n",
              "      <td>10.880000</td>\n",
              "      <td>10.590000</td>\n",
              "      <td>10.690000</td>\n",
              "      <td>7.236666</td>\n",
              "      <td>170970800</td>\n",
              "    </tr>\n",
              "    <tr>\n",
              "      <th>2006-10-06</th>\n",
              "      <td>10.631429</td>\n",
              "      <td>10.720000</td>\n",
              "      <td>10.544286</td>\n",
              "      <td>10.602858</td>\n",
              "      <td>7.177672</td>\n",
              "      <td>116739700</td>\n",
              "    </tr>\n",
              "  </tbody>\n",
              "</table>\n",
              "</div>\n",
              "      <button class=\"colab-df-convert\" onclick=\"convertToInteractive('df-c6997484-b4e0-43b3-b70c-a908c5cda27a')\"\n",
              "              title=\"Convert this dataframe to an interactive table.\"\n",
              "              style=\"display:none;\">\n",
              "        \n",
              "  <svg xmlns=\"http://www.w3.org/2000/svg\" height=\"24px\"viewBox=\"0 0 24 24\"\n",
              "       width=\"24px\">\n",
              "    <path d=\"M0 0h24v24H0V0z\" fill=\"none\"/>\n",
              "    <path d=\"M18.56 5.44l.94 2.06.94-2.06 2.06-.94-2.06-.94-.94-2.06-.94 2.06-2.06.94zm-11 1L8.5 8.5l.94-2.06 2.06-.94-2.06-.94L8.5 2.5l-.94 2.06-2.06.94zm10 10l.94 2.06.94-2.06 2.06-.94-2.06-.94-.94-2.06-.94 2.06-2.06.94z\"/><path d=\"M17.41 7.96l-1.37-1.37c-.4-.4-.92-.59-1.43-.59-.52 0-1.04.2-1.43.59L10.3 9.45l-7.72 7.72c-.78.78-.78 2.05 0 2.83L4 21.41c.39.39.9.59 1.41.59.51 0 1.02-.2 1.41-.59l7.78-7.78 2.81-2.81c.8-.78.8-2.07 0-2.86zM5.41 20L4 18.59l7.72-7.72 1.47 1.35L5.41 20z\"/>\n",
              "  </svg>\n",
              "      </button>\n",
              "      \n",
              "  <style>\n",
              "    .colab-df-container {\n",
              "      display:flex;\n",
              "      flex-wrap:wrap;\n",
              "      gap: 12px;\n",
              "    }\n",
              "\n",
              "    .colab-df-convert {\n",
              "      background-color: #E8F0FE;\n",
              "      border: none;\n",
              "      border-radius: 50%;\n",
              "      cursor: pointer;\n",
              "      display: none;\n",
              "      fill: #1967D2;\n",
              "      height: 32px;\n",
              "      padding: 0 0 0 0;\n",
              "      width: 32px;\n",
              "    }\n",
              "\n",
              "    .colab-df-convert:hover {\n",
              "      background-color: #E2EBFA;\n",
              "      box-shadow: 0px 1px 2px rgba(60, 64, 67, 0.3), 0px 1px 3px 1px rgba(60, 64, 67, 0.15);\n",
              "      fill: #174EA6;\n",
              "    }\n",
              "\n",
              "    [theme=dark] .colab-df-convert {\n",
              "      background-color: #3B4455;\n",
              "      fill: #D2E3FC;\n",
              "    }\n",
              "\n",
              "    [theme=dark] .colab-df-convert:hover {\n",
              "      background-color: #434B5C;\n",
              "      box-shadow: 0px 1px 3px 1px rgba(0, 0, 0, 0.15);\n",
              "      filter: drop-shadow(0px 1px 2px rgba(0, 0, 0, 0.3));\n",
              "      fill: #FFFFFF;\n",
              "    }\n",
              "  </style>\n",
              "\n",
              "      <script>\n",
              "        const buttonEl =\n",
              "          document.querySelector('#df-c6997484-b4e0-43b3-b70c-a908c5cda27a button.colab-df-convert');\n",
              "        buttonEl.style.display =\n",
              "          google.colab.kernel.accessAllowed ? 'block' : 'none';\n",
              "\n",
              "        async function convertToInteractive(key) {\n",
              "          const element = document.querySelector('#df-c6997484-b4e0-43b3-b70c-a908c5cda27a');\n",
              "          const dataTable =\n",
              "            await google.colab.kernel.invokeFunction('convertToInteractive',\n",
              "                                                     [key], {});\n",
              "          if (!dataTable) return;\n",
              "\n",
              "          const docLinkHtml = 'Like what you see? Visit the ' +\n",
              "            '<a target=\"_blank\" href=https://colab.research.google.com/notebooks/data_table.ipynb>data table notebook</a>'\n",
              "            + ' to learn more about interactive tables.';\n",
              "          element.innerHTML = '';\n",
              "          dataTable['output_type'] = 'display_data';\n",
              "          await google.colab.output.renderOutput(dataTable, element);\n",
              "          const docLink = document.createElement('div');\n",
              "          docLink.innerHTML = docLinkHtml;\n",
              "          element.appendChild(docLink);\n",
              "        }\n",
              "      </script>\n",
              "    </div>\n",
              "  </div>\n",
              "  "
            ]
          },
          "metadata": {},
          "execution_count": 39
        }
      ]
    },
    {
      "cell_type": "code",
      "source": [
        "# decouvrir notre Data\n",
        "apple.describe().transpose()"
      ],
      "metadata": {
        "colab": {
          "base_uri": "https://localhost:8080/",
          "height": 488
        },
        "id": "wmyHoTT2QhGv",
        "outputId": "ac8072be-258b-4fc4-8863-2ff1ecf5f8f6"
      },
      "execution_count": null,
      "outputs": [
        {
          "output_type": "execute_result",
          "data": {
            "text/plain": [
              "               count          mean           std           min           25%  \\\n",
              "Open          2832.0  6.832087e+01  4.357551e+01  1.048857e+01  2.648393e+01   \n",
              "High          2832.0  6.893332e+01  4.384819e+01  1.056857e+01  2.669857e+01   \n",
              "Low           2832.0  6.764957e+01  4.329548e+01  1.037143e+01  2.601821e+01   \n",
              "Close         2832.0  6.831134e+01  4.358543e+01  1.046143e+01  2.643571e+01   \n",
              "Adj Close     2832.0  5.888925e+01  4.516289e+01  7.081933e+00  1.789583e+01   \n",
              "Volume        2832.0  1.247076e+08  9.902702e+07  1.147590e+07  5.039560e+07   \n",
              "MA10          2823.0  6.823821e+01  4.336982e+01  1.064600e+01  2.635000e+01   \n",
              "MA50          2783.0  6.790164e+01  4.238727e+01  1.176171e+01  2.570693e+01   \n",
              "shares        2832.0  6.451271e-01  4.785593e-01  0.000000e+00  0.000000e+00   \n",
              "Close1        2831.0  6.833169e+01  4.357967e+01  1.046143e+01  2.643929e+01   \n",
              "daily_profit  2831.0  5.599990e-02  1.201997e+00 -9.072860e+00 -4.528580e-01   \n",
              "profit        2832.0  1.225030e-02  7.786278e-01 -9.072860e+00  0.000000e+00   \n",
              "win           2832.0  6.782369e+00  9.557002e+00 -1.697857e+01  5.896437e-01   \n",
              "log_return    2830.0  1.959168e-03  2.839308e-02 -2.258380e-01 -1.176972e-02   \n",
              "\n",
              "                       50%           75%           max  \n",
              "Open          6.312000e+01  1.015525e+02  1.751100e+02  \n",
              "High          6.401572e+01  1.023725e+02  1.772000e+02  \n",
              "Low           6.249357e+01  1.006325e+02  1.748600e+02  \n",
              "Close         6.321286e+01  1.015925e+02  1.764200e+02  \n",
              "Adj Close     4.781032e+01  9.687805e+01  1.757036e+02  \n",
              "Volume        9.986585e+07  1.672990e+08  8.432424e+08  \n",
              "MA10          6.318543e+01  1.010280e+02  1.738160e+02  \n",
              "MA50          6.261011e+01  1.016874e+02  1.699298e+02  \n",
              "shares        1.000000e+00  1.000000e+00  1.000000e+00  \n",
              "Close1        6.323714e+01  1.016050e+02  1.764200e+02  \n",
              "daily_profit  4.857300e-02  5.764285e-01  7.400002e+00  \n",
              "profit        0.000000e+00  0.000000e+00  6.169999e+00  \n",
              "win           4.394289e+00  1.320534e+01  3.469286e+01  \n",
              "log_return    2.300573e-03  1.695319e-02  2.171305e-01  "
            ],
            "text/html": [
              "\n",
              "  <div id=\"df-9b276fa7-07bc-47ad-8237-9fcdc3497fe9\">\n",
              "    <div class=\"colab-df-container\">\n",
              "      <div>\n",
              "<style scoped>\n",
              "    .dataframe tbody tr th:only-of-type {\n",
              "        vertical-align: middle;\n",
              "    }\n",
              "\n",
              "    .dataframe tbody tr th {\n",
              "        vertical-align: top;\n",
              "    }\n",
              "\n",
              "    .dataframe thead th {\n",
              "        text-align: right;\n",
              "    }\n",
              "</style>\n",
              "<table border=\"1\" class=\"dataframe\">\n",
              "  <thead>\n",
              "    <tr style=\"text-align: right;\">\n",
              "      <th></th>\n",
              "      <th>count</th>\n",
              "      <th>mean</th>\n",
              "      <th>std</th>\n",
              "      <th>min</th>\n",
              "      <th>25%</th>\n",
              "      <th>50%</th>\n",
              "      <th>75%</th>\n",
              "      <th>max</th>\n",
              "    </tr>\n",
              "  </thead>\n",
              "  <tbody>\n",
              "    <tr>\n",
              "      <th>Open</th>\n",
              "      <td>2832.0</td>\n",
              "      <td>6.832087e+01</td>\n",
              "      <td>4.357551e+01</td>\n",
              "      <td>1.048857e+01</td>\n",
              "      <td>2.648393e+01</td>\n",
              "      <td>6.312000e+01</td>\n",
              "      <td>1.015525e+02</td>\n",
              "      <td>1.751100e+02</td>\n",
              "    </tr>\n",
              "    <tr>\n",
              "      <th>High</th>\n",
              "      <td>2832.0</td>\n",
              "      <td>6.893332e+01</td>\n",
              "      <td>4.384819e+01</td>\n",
              "      <td>1.056857e+01</td>\n",
              "      <td>2.669857e+01</td>\n",
              "      <td>6.401572e+01</td>\n",
              "      <td>1.023725e+02</td>\n",
              "      <td>1.772000e+02</td>\n",
              "    </tr>\n",
              "    <tr>\n",
              "      <th>Low</th>\n",
              "      <td>2832.0</td>\n",
              "      <td>6.764957e+01</td>\n",
              "      <td>4.329548e+01</td>\n",
              "      <td>1.037143e+01</td>\n",
              "      <td>2.601821e+01</td>\n",
              "      <td>6.249357e+01</td>\n",
              "      <td>1.006325e+02</td>\n",
              "      <td>1.748600e+02</td>\n",
              "    </tr>\n",
              "    <tr>\n",
              "      <th>Close</th>\n",
              "      <td>2832.0</td>\n",
              "      <td>6.831134e+01</td>\n",
              "      <td>4.358543e+01</td>\n",
              "      <td>1.046143e+01</td>\n",
              "      <td>2.643571e+01</td>\n",
              "      <td>6.321286e+01</td>\n",
              "      <td>1.015925e+02</td>\n",
              "      <td>1.764200e+02</td>\n",
              "    </tr>\n",
              "    <tr>\n",
              "      <th>Adj Close</th>\n",
              "      <td>2832.0</td>\n",
              "      <td>5.888925e+01</td>\n",
              "      <td>4.516289e+01</td>\n",
              "      <td>7.081933e+00</td>\n",
              "      <td>1.789583e+01</td>\n",
              "      <td>4.781032e+01</td>\n",
              "      <td>9.687805e+01</td>\n",
              "      <td>1.757036e+02</td>\n",
              "    </tr>\n",
              "    <tr>\n",
              "      <th>Volume</th>\n",
              "      <td>2832.0</td>\n",
              "      <td>1.247076e+08</td>\n",
              "      <td>9.902702e+07</td>\n",
              "      <td>1.147590e+07</td>\n",
              "      <td>5.039560e+07</td>\n",
              "      <td>9.986585e+07</td>\n",
              "      <td>1.672990e+08</td>\n",
              "      <td>8.432424e+08</td>\n",
              "    </tr>\n",
              "    <tr>\n",
              "      <th>MA10</th>\n",
              "      <td>2823.0</td>\n",
              "      <td>6.823821e+01</td>\n",
              "      <td>4.336982e+01</td>\n",
              "      <td>1.064600e+01</td>\n",
              "      <td>2.635000e+01</td>\n",
              "      <td>6.318543e+01</td>\n",
              "      <td>1.010280e+02</td>\n",
              "      <td>1.738160e+02</td>\n",
              "    </tr>\n",
              "    <tr>\n",
              "      <th>MA50</th>\n",
              "      <td>2783.0</td>\n",
              "      <td>6.790164e+01</td>\n",
              "      <td>4.238727e+01</td>\n",
              "      <td>1.176171e+01</td>\n",
              "      <td>2.570693e+01</td>\n",
              "      <td>6.261011e+01</td>\n",
              "      <td>1.016874e+02</td>\n",
              "      <td>1.699298e+02</td>\n",
              "    </tr>\n",
              "    <tr>\n",
              "      <th>shares</th>\n",
              "      <td>2832.0</td>\n",
              "      <td>6.451271e-01</td>\n",
              "      <td>4.785593e-01</td>\n",
              "      <td>0.000000e+00</td>\n",
              "      <td>0.000000e+00</td>\n",
              "      <td>1.000000e+00</td>\n",
              "      <td>1.000000e+00</td>\n",
              "      <td>1.000000e+00</td>\n",
              "    </tr>\n",
              "    <tr>\n",
              "      <th>Close1</th>\n",
              "      <td>2831.0</td>\n",
              "      <td>6.833169e+01</td>\n",
              "      <td>4.357967e+01</td>\n",
              "      <td>1.046143e+01</td>\n",
              "      <td>2.643929e+01</td>\n",
              "      <td>6.323714e+01</td>\n",
              "      <td>1.016050e+02</td>\n",
              "      <td>1.764200e+02</td>\n",
              "    </tr>\n",
              "    <tr>\n",
              "      <th>daily_profit</th>\n",
              "      <td>2831.0</td>\n",
              "      <td>5.599990e-02</td>\n",
              "      <td>1.201997e+00</td>\n",
              "      <td>-9.072860e+00</td>\n",
              "      <td>-4.528580e-01</td>\n",
              "      <td>4.857300e-02</td>\n",
              "      <td>5.764285e-01</td>\n",
              "      <td>7.400002e+00</td>\n",
              "    </tr>\n",
              "    <tr>\n",
              "      <th>profit</th>\n",
              "      <td>2832.0</td>\n",
              "      <td>1.225030e-02</td>\n",
              "      <td>7.786278e-01</td>\n",
              "      <td>-9.072860e+00</td>\n",
              "      <td>0.000000e+00</td>\n",
              "      <td>0.000000e+00</td>\n",
              "      <td>0.000000e+00</td>\n",
              "      <td>6.169999e+00</td>\n",
              "    </tr>\n",
              "    <tr>\n",
              "      <th>win</th>\n",
              "      <td>2832.0</td>\n",
              "      <td>6.782369e+00</td>\n",
              "      <td>9.557002e+00</td>\n",
              "      <td>-1.697857e+01</td>\n",
              "      <td>5.896437e-01</td>\n",
              "      <td>4.394289e+00</td>\n",
              "      <td>1.320534e+01</td>\n",
              "      <td>3.469286e+01</td>\n",
              "    </tr>\n",
              "    <tr>\n",
              "      <th>log_return</th>\n",
              "      <td>2830.0</td>\n",
              "      <td>1.959168e-03</td>\n",
              "      <td>2.839308e-02</td>\n",
              "      <td>-2.258380e-01</td>\n",
              "      <td>-1.176972e-02</td>\n",
              "      <td>2.300573e-03</td>\n",
              "      <td>1.695319e-02</td>\n",
              "      <td>2.171305e-01</td>\n",
              "    </tr>\n",
              "  </tbody>\n",
              "</table>\n",
              "</div>\n",
              "      <button class=\"colab-df-convert\" onclick=\"convertToInteractive('df-9b276fa7-07bc-47ad-8237-9fcdc3497fe9')\"\n",
              "              title=\"Convert this dataframe to an interactive table.\"\n",
              "              style=\"display:none;\">\n",
              "        \n",
              "  <svg xmlns=\"http://www.w3.org/2000/svg\" height=\"24px\"viewBox=\"0 0 24 24\"\n",
              "       width=\"24px\">\n",
              "    <path d=\"M0 0h24v24H0V0z\" fill=\"none\"/>\n",
              "    <path d=\"M18.56 5.44l.94 2.06.94-2.06 2.06-.94-2.06-.94-.94-2.06-.94 2.06-2.06.94zm-11 1L8.5 8.5l.94-2.06 2.06-.94-2.06-.94L8.5 2.5l-.94 2.06-2.06.94zm10 10l.94 2.06.94-2.06 2.06-.94-2.06-.94-.94-2.06-.94 2.06-2.06.94z\"/><path d=\"M17.41 7.96l-1.37-1.37c-.4-.4-.92-.59-1.43-.59-.52 0-1.04.2-1.43.59L10.3 9.45l-7.72 7.72c-.78.78-.78 2.05 0 2.83L4 21.41c.39.39.9.59 1.41.59.51 0 1.02-.2 1.41-.59l7.78-7.78 2.81-2.81c.8-.78.8-2.07 0-2.86zM5.41 20L4 18.59l7.72-7.72 1.47 1.35L5.41 20z\"/>\n",
              "  </svg>\n",
              "      </button>\n",
              "      \n",
              "  <style>\n",
              "    .colab-df-container {\n",
              "      display:flex;\n",
              "      flex-wrap:wrap;\n",
              "      gap: 12px;\n",
              "    }\n",
              "\n",
              "    .colab-df-convert {\n",
              "      background-color: #E8F0FE;\n",
              "      border: none;\n",
              "      border-radius: 50%;\n",
              "      cursor: pointer;\n",
              "      display: none;\n",
              "      fill: #1967D2;\n",
              "      height: 32px;\n",
              "      padding: 0 0 0 0;\n",
              "      width: 32px;\n",
              "    }\n",
              "\n",
              "    .colab-df-convert:hover {\n",
              "      background-color: #E2EBFA;\n",
              "      box-shadow: 0px 1px 2px rgba(60, 64, 67, 0.3), 0px 1px 3px 1px rgba(60, 64, 67, 0.15);\n",
              "      fill: #174EA6;\n",
              "    }\n",
              "\n",
              "    [theme=dark] .colab-df-convert {\n",
              "      background-color: #3B4455;\n",
              "      fill: #D2E3FC;\n",
              "    }\n",
              "\n",
              "    [theme=dark] .colab-df-convert:hover {\n",
              "      background-color: #434B5C;\n",
              "      box-shadow: 0px 1px 3px 1px rgba(0, 0, 0, 0.15);\n",
              "      filter: drop-shadow(0px 1px 2px rgba(0, 0, 0, 0.3));\n",
              "      fill: #FFFFFF;\n",
              "    }\n",
              "  </style>\n",
              "\n",
              "      <script>\n",
              "        const buttonEl =\n",
              "          document.querySelector('#df-9b276fa7-07bc-47ad-8237-9fcdc3497fe9 button.colab-df-convert');\n",
              "        buttonEl.style.display =\n",
              "          google.colab.kernel.accessAllowed ? 'block' : 'none';\n",
              "\n",
              "        async function convertToInteractive(key) {\n",
              "          const element = document.querySelector('#df-9b276fa7-07bc-47ad-8237-9fcdc3497fe9');\n",
              "          const dataTable =\n",
              "            await google.colab.kernel.invokeFunction('convertToInteractive',\n",
              "                                                     [key], {});\n",
              "          if (!dataTable) return;\n",
              "\n",
              "          const docLinkHtml = 'Like what you see? Visit the ' +\n",
              "            '<a target=\"_blank\" href=https://colab.research.google.com/notebooks/data_table.ipynb>data table notebook</a>'\n",
              "            + ' to learn more about interactive tables.';\n",
              "          element.innerHTML = '';\n",
              "          dataTable['output_type'] = 'display_data';\n",
              "          await google.colab.output.renderOutput(dataTable, element);\n",
              "          const docLink = document.createElement('div');\n",
              "          docLink.innerHTML = docLinkHtml;\n",
              "          element.appendChild(docLink);\n",
              "        }\n",
              "      </script>\n",
              "    </div>\n",
              "  </div>\n",
              "  "
            ]
          },
          "metadata": {},
          "execution_count": 70
        }
      ]
    },
    {
      "cell_type": "code",
      "source": [
        "apple.columns"
      ],
      "metadata": {
        "colab": {
          "base_uri": "https://localhost:8080/"
        },
        "id": "7V88vPbkRDQw",
        "outputId": "ffdc013b-7f01-4dab-cd4d-ad1b69386f1c"
      },
      "execution_count": null,
      "outputs": [
        {
          "output_type": "execute_result",
          "data": {
            "text/plain": [
              "Index(['Open', 'High', 'Low', 'Close', 'Adj Close', 'Volume'], dtype='object')"
            ]
          },
          "metadata": {},
          "execution_count": 41
        }
      ]
    },
    {
      "cell_type": "code",
      "source": [
        "apple.shape"
      ],
      "metadata": {
        "colab": {
          "base_uri": "https://localhost:8080/"
        },
        "id": "opXnCVOWRohg",
        "outputId": "531898b0-0562-4c3e-8c4d-aeb66eab5bf9"
      },
      "execution_count": null,
      "outputs": [
        {
          "output_type": "execute_result",
          "data": {
            "text/plain": [
              "(2832, 6)"
            ]
          },
          "metadata": {},
          "execution_count": 42
        }
      ]
    },
    {
      "cell_type": "code",
      "source": [
        "apple.info()"
      ],
      "metadata": {
        "colab": {
          "base_uri": "https://localhost:8080/"
        },
        "id": "ithdWAHBRypA",
        "outputId": "57fe5662-9f72-4fb8-fa59-bb52fd9e8b77"
      },
      "execution_count": null,
      "outputs": [
        {
          "output_type": "stream",
          "name": "stdout",
          "text": [
            "<class 'pandas.core.frame.DataFrame'>\n",
            "Index: 2832 entries, 2006-10-02 to 2017-12-29\n",
            "Data columns (total 6 columns):\n",
            " #   Column     Non-Null Count  Dtype  \n",
            "---  ------     --------------  -----  \n",
            " 0   Open       2832 non-null   float64\n",
            " 1   High       2832 non-null   float64\n",
            " 2   Low        2832 non-null   float64\n",
            " 3   Close      2832 non-null   float64\n",
            " 4   Adj Close  2832 non-null   float64\n",
            " 5   Volume     2832 non-null   int64  \n",
            "dtypes: float64(5), int64(1)\n",
            "memory usage: 154.9+ KB\n"
          ]
        }
      ]
    },
    {
      "cell_type": "code",
      "source": [
        "apple.tail()"
      ],
      "metadata": {
        "colab": {
          "base_uri": "https://localhost:8080/",
          "height": 237
        },
        "id": "-pPuaY0tVOIf",
        "outputId": "3ac805fa-22b5-4ac6-8b78-818f55e0b974"
      },
      "execution_count": null,
      "outputs": [
        {
          "output_type": "execute_result",
          "data": {
            "text/plain": [
              "                  Open        High         Low       Close   Adj Close  \\\n",
              "Date                                                                     \n",
              "2017-12-22  174.679993  175.419998  174.500000  175.009995  174.299362   \n",
              "2017-12-26  170.800003  171.470001  169.679993  170.570007  169.877396   \n",
              "2017-12-27  170.100006  170.779999  169.710007  170.600006  169.907272   \n",
              "2017-12-28  171.000000  171.850006  170.479996  171.080002  170.385315   \n",
              "2017-12-29  170.520004  170.589996  169.220001  169.229996  168.542831   \n",
              "\n",
              "              Volume  \n",
              "Date                  \n",
              "2017-12-22  16349400  \n",
              "2017-12-26  33185500  \n",
              "2017-12-27  21498200  \n",
              "2017-12-28  16480200  \n",
              "2017-12-29  25999900  "
            ],
            "text/html": [
              "\n",
              "  <div id=\"df-12fe1b7f-7d94-455c-804a-ba65c0d180e7\">\n",
              "    <div class=\"colab-df-container\">\n",
              "      <div>\n",
              "<style scoped>\n",
              "    .dataframe tbody tr th:only-of-type {\n",
              "        vertical-align: middle;\n",
              "    }\n",
              "\n",
              "    .dataframe tbody tr th {\n",
              "        vertical-align: top;\n",
              "    }\n",
              "\n",
              "    .dataframe thead th {\n",
              "        text-align: right;\n",
              "    }\n",
              "</style>\n",
              "<table border=\"1\" class=\"dataframe\">\n",
              "  <thead>\n",
              "    <tr style=\"text-align: right;\">\n",
              "      <th></th>\n",
              "      <th>Open</th>\n",
              "      <th>High</th>\n",
              "      <th>Low</th>\n",
              "      <th>Close</th>\n",
              "      <th>Adj Close</th>\n",
              "      <th>Volume</th>\n",
              "    </tr>\n",
              "    <tr>\n",
              "      <th>Date</th>\n",
              "      <th></th>\n",
              "      <th></th>\n",
              "      <th></th>\n",
              "      <th></th>\n",
              "      <th></th>\n",
              "      <th></th>\n",
              "    </tr>\n",
              "  </thead>\n",
              "  <tbody>\n",
              "    <tr>\n",
              "      <th>2017-12-22</th>\n",
              "      <td>174.679993</td>\n",
              "      <td>175.419998</td>\n",
              "      <td>174.500000</td>\n",
              "      <td>175.009995</td>\n",
              "      <td>174.299362</td>\n",
              "      <td>16349400</td>\n",
              "    </tr>\n",
              "    <tr>\n",
              "      <th>2017-12-26</th>\n",
              "      <td>170.800003</td>\n",
              "      <td>171.470001</td>\n",
              "      <td>169.679993</td>\n",
              "      <td>170.570007</td>\n",
              "      <td>169.877396</td>\n",
              "      <td>33185500</td>\n",
              "    </tr>\n",
              "    <tr>\n",
              "      <th>2017-12-27</th>\n",
              "      <td>170.100006</td>\n",
              "      <td>170.779999</td>\n",
              "      <td>169.710007</td>\n",
              "      <td>170.600006</td>\n",
              "      <td>169.907272</td>\n",
              "      <td>21498200</td>\n",
              "    </tr>\n",
              "    <tr>\n",
              "      <th>2017-12-28</th>\n",
              "      <td>171.000000</td>\n",
              "      <td>171.850006</td>\n",
              "      <td>170.479996</td>\n",
              "      <td>171.080002</td>\n",
              "      <td>170.385315</td>\n",
              "      <td>16480200</td>\n",
              "    </tr>\n",
              "    <tr>\n",
              "      <th>2017-12-29</th>\n",
              "      <td>170.520004</td>\n",
              "      <td>170.589996</td>\n",
              "      <td>169.220001</td>\n",
              "      <td>169.229996</td>\n",
              "      <td>168.542831</td>\n",
              "      <td>25999900</td>\n",
              "    </tr>\n",
              "  </tbody>\n",
              "</table>\n",
              "</div>\n",
              "      <button class=\"colab-df-convert\" onclick=\"convertToInteractive('df-12fe1b7f-7d94-455c-804a-ba65c0d180e7')\"\n",
              "              title=\"Convert this dataframe to an interactive table.\"\n",
              "              style=\"display:none;\">\n",
              "        \n",
              "  <svg xmlns=\"http://www.w3.org/2000/svg\" height=\"24px\"viewBox=\"0 0 24 24\"\n",
              "       width=\"24px\">\n",
              "    <path d=\"M0 0h24v24H0V0z\" fill=\"none\"/>\n",
              "    <path d=\"M18.56 5.44l.94 2.06.94-2.06 2.06-.94-2.06-.94-.94-2.06-.94 2.06-2.06.94zm-11 1L8.5 8.5l.94-2.06 2.06-.94-2.06-.94L8.5 2.5l-.94 2.06-2.06.94zm10 10l.94 2.06.94-2.06 2.06-.94-2.06-.94-.94-2.06-.94 2.06-2.06.94z\"/><path d=\"M17.41 7.96l-1.37-1.37c-.4-.4-.92-.59-1.43-.59-.52 0-1.04.2-1.43.59L10.3 9.45l-7.72 7.72c-.78.78-.78 2.05 0 2.83L4 21.41c.39.39.9.59 1.41.59.51 0 1.02-.2 1.41-.59l7.78-7.78 2.81-2.81c.8-.78.8-2.07 0-2.86zM5.41 20L4 18.59l7.72-7.72 1.47 1.35L5.41 20z\"/>\n",
              "  </svg>\n",
              "      </button>\n",
              "      \n",
              "  <style>\n",
              "    .colab-df-container {\n",
              "      display:flex;\n",
              "      flex-wrap:wrap;\n",
              "      gap: 12px;\n",
              "    }\n",
              "\n",
              "    .colab-df-convert {\n",
              "      background-color: #E8F0FE;\n",
              "      border: none;\n",
              "      border-radius: 50%;\n",
              "      cursor: pointer;\n",
              "      display: none;\n",
              "      fill: #1967D2;\n",
              "      height: 32px;\n",
              "      padding: 0 0 0 0;\n",
              "      width: 32px;\n",
              "    }\n",
              "\n",
              "    .colab-df-convert:hover {\n",
              "      background-color: #E2EBFA;\n",
              "      box-shadow: 0px 1px 2px rgba(60, 64, 67, 0.3), 0px 1px 3px 1px rgba(60, 64, 67, 0.15);\n",
              "      fill: #174EA6;\n",
              "    }\n",
              "\n",
              "    [theme=dark] .colab-df-convert {\n",
              "      background-color: #3B4455;\n",
              "      fill: #D2E3FC;\n",
              "    }\n",
              "\n",
              "    [theme=dark] .colab-df-convert:hover {\n",
              "      background-color: #434B5C;\n",
              "      box-shadow: 0px 1px 3px 1px rgba(0, 0, 0, 0.15);\n",
              "      filter: drop-shadow(0px 1px 2px rgba(0, 0, 0, 0.3));\n",
              "      fill: #FFFFFF;\n",
              "    }\n",
              "  </style>\n",
              "\n",
              "      <script>\n",
              "        const buttonEl =\n",
              "          document.querySelector('#df-12fe1b7f-7d94-455c-804a-ba65c0d180e7 button.colab-df-convert');\n",
              "        buttonEl.style.display =\n",
              "          google.colab.kernel.accessAllowed ? 'block' : 'none';\n",
              "\n",
              "        async function convertToInteractive(key) {\n",
              "          const element = document.querySelector('#df-12fe1b7f-7d94-455c-804a-ba65c0d180e7');\n",
              "          const dataTable =\n",
              "            await google.colab.kernel.invokeFunction('convertToInteractive',\n",
              "                                                     [key], {});\n",
              "          if (!dataTable) return;\n",
              "\n",
              "          const docLinkHtml = 'Like what you see? Visit the ' +\n",
              "            '<a target=\"_blank\" href=https://colab.research.google.com/notebooks/data_table.ipynb>data table notebook</a>'\n",
              "            + ' to learn more about interactive tables.';\n",
              "          element.innerHTML = '';\n",
              "          dataTable['output_type'] = 'display_data';\n",
              "          await google.colab.output.renderOutput(dataTable, element);\n",
              "          const docLink = document.createElement('div');\n",
              "          docLink.innerHTML = docLinkHtml;\n",
              "          element.appendChild(docLink);\n",
              "        }\n",
              "      </script>\n",
              "    </div>\n",
              "  </div>\n",
              "  "
            ]
          },
          "metadata": {},
          "execution_count": 44
        }
      ]
    },
    {
      "cell_type": "code",
      "source": [
        "# analyse apple 'Close' per years\n",
        "apple.loc['2005-12-01':'2018-12-31' ,'Close'].plot(legend=True)\n",
        "# apple.loc['2016-12-01':'2016-12-31' ,'Close'].plot()\n",
        "# apple.loc['2017-12-01':'2017-12-31' ,'Close'].plot()\n",
        "# apple.loc['2018-12-01':'2018-12-31' ,'Close'].plot()"
      ],
      "metadata": {
        "colab": {
          "base_uri": "https://localhost:8080/",
          "height": 296
        },
        "id": "-AhL_MajVT1O",
        "outputId": "61fce310-bf5f-4a87-8ec0-cfebd1db811d"
      },
      "execution_count": null,
      "outputs": [
        {
          "output_type": "execute_result",
          "data": {
            "text/plain": [
              "<AxesSubplot:xlabel='Date'>"
            ]
          },
          "metadata": {},
          "execution_count": 45
        },
        {
          "output_type": "display_data",
          "data": {
            "text/plain": [
              "<Figure size 432x288 with 1 Axes>"
            ],
            "image/png": "[encoded data removed]"
          },
          "metadata": {
            "needs_background": "light"
          }
        }
      ]
    },
    {
      "cell_type": "code",
      "source": [
        "apple['MA10'] = apple['Close'].rolling(10).mean() #fasy signal\n",
        "apple['MA50'] = apple['Close'].rolling(50).mean() #lent signal"
      ],
      "metadata": {
        "id": "cQ-GHkriDHdg"
      },
      "execution_count": null,
      "outputs": []
    },
    {
      "cell_type": "code",
      "source": [
        "apple['MA10'].plot(legend=True)\n",
        "apple['MA50'].plot(legend=True)\n",
        "apple['Close'].plot(legend=True)\n",
        "plt.show()"
      ],
      "metadata": {
        "colab": {
          "base_uri": "https://localhost:8080/",
          "height": 279
        },
        "id": "EKY6EJirDqhZ",
        "outputId": "d87b6e65-08f5-44fc-bdb2-15236eaefa15"
      },
      "execution_count": null,
      "outputs": [
        {
          "output_type": "display_data",
          "data": {
            "text/plain": [
              "<Figure size 432x288 with 1 Axes>"
            ],
            "image/png": "[encoded data removed]"
          },
          "metadata": {
            "needs_background": "light"
          }
        }
      ]
    },
    {
      "cell_type": "code",
      "source": [
        "# if MA10 largest to MA50 we buy and hold action"
      ],
      "metadata": {
        "id": "mhQeHoh-Ep_y"
      },
      "execution_count": null,
      "outputs": []
    },
    {
      "cell_type": "code",
      "source": [
        "# apple.head(2)\n",
        "apple['shares'] =  [1 if apple.loc[ i ,'MA10'] > apple.loc[ i ,'MA50'] else 0\n",
        "                  for i in apple.index]\n",
        "\n",
        "# profil when Shares equal 0 and 1 buy and hold action"
      ],
      "metadata": {
        "id": "0sDlqfbKFAwg"
      },
      "execution_count": null,
      "outputs": []
    },
    {
      "cell_type": "code",
      "source": [
        "# add new columns named 'daily_profit'\n",
        "# first we craet nw columns named close1 is a close price of tomorrow \n",
        "apple['Close1'] = apple['Close'].shift(-1)"
      ],
      "metadata": {
        "id": "zRZJ4OfigvDV"
      },
      "execution_count": null,
      "outputs": []
    },
    {
      "cell_type": "code",
      "source": [
        "apple['daily_profit']  = apple['Close1'] - apple['Close']\n",
        "apple.head()"
      ],
      "metadata": {
        "colab": {
          "base_uri": "https://localhost:8080/",
          "height": 237
        },
        "id": "I144g92SHp7x",
        "outputId": "f3c111f4-676b-4753-8d97-2f08b5d84d1b"
      },
      "execution_count": null,
      "outputs": [
        {
          "output_type": "execute_result",
          "data": {
            "text/plain": [
              "                 Open       High        Low      Close  Adj Close     Volume  \\\n",
              "Date                                                                           \n",
              "2006-10-02  10.728572  10.838572  10.614285  10.694285   7.239566  178159800   \n",
              "2006-10-03  10.635715  10.707143  10.455714  10.582857   7.164135  197677200   \n",
              "2006-10-04  10.585714  10.780000  10.451428  10.768572   7.289855  207270700   \n",
              "2006-10-05  10.647142  10.880000  10.590000  10.690000   7.236666  170970800   \n",
              "2006-10-06  10.631429  10.720000  10.544286  10.602858   7.177672  116739700   \n",
              "\n",
              "            MA10  MA50  shares     Close1  daily_profit  \n",
              "Date                                                     \n",
              "2006-10-02   NaN   NaN       0  10.582857     -0.111428  \n",
              "2006-10-03   NaN   NaN       0  10.768572      0.185715  \n",
              "2006-10-04   NaN   NaN       0  10.690000     -0.078572  \n",
              "2006-10-05   NaN   NaN       0  10.602858     -0.087142  \n",
              "2006-10-06   NaN   NaN       0  10.661428      0.058570  "
            ],
            "text/html": [
              "\n",
              "  <div id=\"df-b1ba41ed-c4bc-4b14-92d4-9c9a8a2fe5d5\">\n",
              "    <div class=\"colab-df-container\">\n",
              "      <div>\n",
              "<style scoped>\n",
              "    .dataframe tbody tr th:only-of-type {\n",
              "        vertical-align: middle;\n",
              "    }\n",
              "\n",
              "    .dataframe tbody tr th {\n",
              "        vertical-align: top;\n",
              "    }\n",
              "\n",
              "    .dataframe thead th {\n",
              "        text-align: right;\n",
              "    }\n",
              "</style>\n",
              "<table border=\"1\" class=\"dataframe\">\n",
              "  <thead>\n",
              "    <tr style=\"text-align: right;\">\n",
              "      <th></th>\n",
              "      <th>Open</th>\n",
              "      <th>High</th>\n",
              "      <th>Low</th>\n",
              "      <th>Close</th>\n",
              "      <th>Adj Close</th>\n",
              "      <th>Volume</th>\n",
              "      <th>MA10</th>\n",
              "      <th>MA50</th>\n",
              "      <th>shares</th>\n",
              "      <th>Close1</th>\n",
              "      <th>daily_profit</th>\n",
              "    </tr>\n",
              "    <tr>\n",
              "      <th>Date</th>\n",
              "      <th></th>\n",
              "      <th></th>\n",
              "      <th></th>\n",
              "      <th></th>\n",
              "      <th></th>\n",
              "      <th></th>\n",
              "      <th></th>\n",
              "      <th></th>\n",
              "      <th></th>\n",
              "      <th></th>\n",
              "      <th></th>\n",
              "    </tr>\n",
              "  </thead>\n",
              "  <tbody>\n",
              "    <tr>\n",
              "      <th>2006-10-02</th>\n",
              "      <td>10.728572</td>\n",
              "      <td>10.838572</td>\n",
              "      <td>10.614285</td>\n",
              "      <td>10.694285</td>\n",
              "      <td>7.239566</td>\n",
              "      <td>178159800</td>\n",
              "      <td>NaN</td>\n",
              "      <td>NaN</td>\n",
              "      <td>0</td>\n",
              "      <td>10.582857</td>\n",
              "      <td>-0.111428</td>\n",
              "    </tr>\n",
              "    <tr>\n",
              "      <th>2006-10-03</th>\n",
              "      <td>10.635715</td>\n",
              "      <td>10.707143</td>\n",
              "      <td>10.455714</td>\n",
              "      <td>10.582857</td>\n",
              "      <td>7.164135</td>\n",
              "      <td>197677200</td>\n",
              "      <td>NaN</td>\n",
              "      <td>NaN</td>\n",
              "      <td>0</td>\n",
              "      <td>10.768572</td>\n",
              "      <td>0.185715</td>\n",
              "    </tr>\n",
              "    <tr>\n",
              "      <th>2006-10-04</th>\n",
              "      <td>10.585714</td>\n",
              "      <td>10.780000</td>\n",
              "      <td>10.451428</td>\n",
              "      <td>10.768572</td>\n",
              "      <td>7.289855</td>\n",
              "      <td>207270700</td>\n",
              "      <td>NaN</td>\n",
              "      <td>NaN</td>\n",
              "      <td>0</td>\n",
              "      <td>10.690000</td>\n",
              "      <td>-0.078572</td>\n",
              "    </tr>\n",
              "    <tr>\n",
              "      <th>2006-10-05</th>\n",
              "      <td>10.647142</td>\n",
              "      <td>10.880000</td>\n",
              "      <td>10.590000</td>\n",
              "      <td>10.690000</td>\n",
              "      <td>7.236666</td>\n",
              "      <td>170970800</td>\n",
              "      <td>NaN</td>\n",
              "      <td>NaN</td>\n",
              "      <td>0</td>\n",
              "      <td>10.602858</td>\n",
              "      <td>-0.087142</td>\n",
              "    </tr>\n",
              "    <tr>\n",
              "      <th>2006-10-06</th>\n",
              "      <td>10.631429</td>\n",
              "      <td>10.720000</td>\n",
              "      <td>10.544286</td>\n",
              "      <td>10.602858</td>\n",
              "      <td>7.177672</td>\n",
              "      <td>116739700</td>\n",
              "      <td>NaN</td>\n",
              "      <td>NaN</td>\n",
              "      <td>0</td>\n",
              "      <td>10.661428</td>\n",
              "      <td>0.058570</td>\n",
              "    </tr>\n",
              "  </tbody>\n",
              "</table>\n",
              "</div>\n",
              "      <button class=\"colab-df-convert\" onclick=\"convertToInteractive('df-b1ba41ed-c4bc-4b14-92d4-9c9a8a2fe5d5')\"\n",
              "              title=\"Convert this dataframe to an interactive table.\"\n",
              "              style=\"display:none;\">\n",
              "        \n",
              "  <svg xmlns=\"http://www.w3.org/2000/svg\" height=\"24px\"viewBox=\"0 0 24 24\"\n",
              "       width=\"24px\">\n",
              "    <path d=\"M0 0h24v24H0V0z\" fill=\"none\"/>\n",
              "    <path d=\"M18.56 5.44l.94 2.06.94-2.06 2.06-.94-2.06-.94-.94-2.06-.94 2.06-2.06.94zm-11 1L8.5 8.5l.94-2.06 2.06-.94-2.06-.94L8.5 2.5l-.94 2.06-2.06.94zm10 10l.94 2.06.94-2.06 2.06-.94-2.06-.94-.94-2.06-.94 2.06-2.06.94z\"/><path d=\"M17.41 7.96l-1.37-1.37c-.4-.4-.92-.59-1.43-.59-.52 0-1.04.2-1.43.59L10.3 9.45l-7.72 7.72c-.78.78-.78 2.05 0 2.83L4 21.41c.39.39.9.59 1.41.59.51 0 1.02-.2 1.41-.59l7.78-7.78 2.81-2.81c.8-.78.8-2.07 0-2.86zM5.41 20L4 18.59l7.72-7.72 1.47 1.35L5.41 20z\"/>\n",
              "  </svg>\n",
              "      </button>\n",
              "      \n",
              "  <style>\n",
              "    .colab-df-container {\n",
              "      display:flex;\n",
              "      flex-wrap:wrap;\n",
              "      gap: 12px;\n",
              "    }\n",
              "\n",
              "    .colab-df-convert {\n",
              "      background-color: #E8F0FE;\n",
              "      border: none;\n",
              "      border-radius: 50%;\n",
              "      cursor: pointer;\n",
              "      display: none;\n",
              "      fill: #1967D2;\n",
              "      height: 32px;\n",
              "      padding: 0 0 0 0;\n",
              "      width: 32px;\n",
              "    }\n",
              "\n",
              "    .colab-df-convert:hover {\n",
              "      background-color: #E2EBFA;\n",
              "      box-shadow: 0px 1px 2px rgba(60, 64, 67, 0.3), 0px 1px 3px 1px rgba(60, 64, 67, 0.15);\n",
              "      fill: #174EA6;\n",
              "    }\n",
              "\n",
              "    [theme=dark] .colab-df-convert {\n",
              "      background-color: #3B4455;\n",
              "      fill: #D2E3FC;\n",
              "    }\n",
              "\n",
              "    [theme=dark] .colab-df-convert:hover {\n",
              "      background-color: #434B5C;\n",
              "      box-shadow: 0px 1px 3px 1px rgba(0, 0, 0, 0.15);\n",
              "      filter: drop-shadow(0px 1px 2px rgba(0, 0, 0, 0.3));\n",
              "      fill: #FFFFFF;\n",
              "    }\n",
              "  </style>\n",
              "\n",
              "      <script>\n",
              "        const buttonEl =\n",
              "          document.querySelector('#df-b1ba41ed-c4bc-4b14-92d4-9c9a8a2fe5d5 button.colab-df-convert');\n",
              "        buttonEl.style.display =\n",
              "          google.colab.kernel.accessAllowed ? 'block' : 'none';\n",
              "\n",
              "        async function convertToInteractive(key) {\n",
              "          const element = document.querySelector('#df-b1ba41ed-c4bc-4b14-92d4-9c9a8a2fe5d5');\n",
              "          const dataTable =\n",
              "            await google.colab.kernel.invokeFunction('convertToInteractive',\n",
              "                                                     [key], {});\n",
              "          if (!dataTable) return;\n",
              "\n",
              "          const docLinkHtml = 'Like what you see? Visit the ' +\n",
              "            '<a target=\"_blank\" href=https://colab.research.google.com/notebooks/data_table.ipynb>data table notebook</a>'\n",
              "            + ' to learn more about interactive tables.';\n",
              "          element.innerHTML = '';\n",
              "          dataTable['output_type'] = 'display_data';\n",
              "          await google.colab.output.renderOutput(dataTable, element);\n",
              "          const docLink = document.createElement('div');\n",
              "          docLink.innerHTML = docLinkHtml;\n",
              "          element.appendChild(docLink);\n",
              "        }\n",
              "      </script>\n",
              "    </div>\n",
              "  </div>\n",
              "  "
            ]
          },
          "metadata": {},
          "execution_count": 51
        }
      ]
    },
    {
      "cell_type": "code",
      "source": [
        "apple['profit'] = [apple.loc[i , 'Close1'] - apple.loc[i , 'Close']\n",
        "                   if apple.loc[i ,'shares'] == 0 else 0\n",
        "                   for i in apple.index]"
      ],
      "metadata": {
        "id": "HVNG6hoQJs2n"
      },
      "execution_count": null,
      "outputs": []
    },
    {
      "cell_type": "code",
      "source": [
        "apple['profit'].plot()"
      ],
      "metadata": {
        "colab": {
          "base_uri": "https://localhost:8080/",
          "height": 296
        },
        "id": "sgcz8FelLYeG",
        "outputId": "dd259dc9-fa90-4341-a48c-7575a6019768"
      },
      "execution_count": null,
      "outputs": [
        {
          "output_type": "execute_result",
          "data": {
            "text/plain": [
              "<AxesSubplot:xlabel='Date'>"
            ]
          },
          "metadata": {},
          "execution_count": 53
        },
        {
          "output_type": "display_data",
          "data": {
            "text/plain": [
              "<Figure size 432x288 with 1 Axes>"
            ],
            "image/png": "[encoded data removed]"
          },
          "metadata": {
            "needs_background": "light"
          }
        }
      ]
    },
    {
      "cell_type": "code",
      "source": [
        "apple[\"win\"] = apple['profit'].cumsum()\n",
        "apple.tail()\n",
        "# we cheek the last column of 'win'"
      ],
      "metadata": {
        "colab": {
          "base_uri": "https://localhost:8080/",
          "height": 388
        },
        "id": "_sn9saKVhh8c",
        "outputId": "1bc7ac58-d1f2-48c4-bbc2-61c29868f4fd"
      },
      "execution_count": null,
      "outputs": [
        {
          "output_type": "execute_result",
          "data": {
            "text/plain": [
              "                  Open        High         Low       Close   Adj Close  \\\n",
              "Date                                                                     \n",
              "2017-12-22  174.679993  175.419998  174.500000  175.009995  174.299362   \n",
              "2017-12-26  170.800003  171.470001  169.679993  170.570007  169.877396   \n",
              "2017-12-27  170.100006  170.779999  169.710007  170.600006  169.907272   \n",
              "2017-12-28  171.000000  171.850006  170.479996  171.080002  170.385315   \n",
              "2017-12-29  170.520004  170.589996  169.220001  169.229996  168.542831   \n",
              "\n",
              "              Volume        MA10      MA50  shares      Close1  daily_profit  \\\n",
              "Date                                                                           \n",
              "2017-12-22  16349400  173.815999  169.0422       1  170.570007     -4.439988   \n",
              "2017-12-26  33185500  173.606000  169.3138       1  170.600006      0.029999   \n",
              "2017-12-27  21498200  173.496001  169.5282       1  171.080002      0.479996   \n",
              "2017-12-28  16480200  173.377000  169.7404       1  169.229996     -1.850006   \n",
              "2017-12-29  25999900  173.078000  169.9298       1         NaN           NaN   \n",
              "\n",
              "            profit        win  \n",
              "Date                           \n",
              "2017-12-22     0.0  34.692862  \n",
              "2017-12-26     0.0  34.692862  \n",
              "2017-12-27     0.0  34.692862  \n",
              "2017-12-28     0.0  34.692862  \n",
              "2017-12-29     0.0  34.692862  "
            ],
            "text/html": [
              "\n",
              "  <div id=\"df-5a1a949f-a402-4061-aa72-f6af5f2cc237\">\n",
              "    <div class=\"colab-df-container\">\n",
              "      <div>\n",
              "<style scoped>\n",
              "    .dataframe tbody tr th:only-of-type {\n",
              "        vertical-align: middle;\n",
              "    }\n",
              "\n",
              "    .dataframe tbody tr th {\n",
              "        vertical-align: top;\n",
              "    }\n",
              "\n",
              "    .dataframe thead th {\n",
              "        text-align: right;\n",
              "    }\n",
              "</style>\n",
              "<table border=\"1\" class=\"dataframe\">\n",
              "  <thead>\n",
              "    <tr style=\"text-align: right;\">\n",
              "      <th></th>\n",
              "      <th>Open</th>\n",
              "      <th>High</th>\n",
              "      <th>Low</th>\n",
              "      <th>Close</th>\n",
              "      <th>Adj Close</th>\n",
              "      <th>Volume</th>\n",
              "      <th>MA10</th>\n",
              "      <th>MA50</th>\n",
              "      <th>shares</th>\n",
              "      <th>Close1</th>\n",
              "      <th>daily_profit</th>\n",
              "      <th>profit</th>\n",
              "      <th>win</th>\n",
              "    </tr>\n",
              "    <tr>\n",
              "      <th>Date</th>\n",
              "      <th></th>\n",
              "      <th></th>\n",
              "      <th></th>\n",
              "      <th></th>\n",
              "      <th></th>\n",
              "      <th></th>\n",
              "      <th></th>\n",
              "      <th></th>\n",
              "      <th></th>\n",
              "      <th></th>\n",
              "      <th></th>\n",
              "      <th></th>\n",
              "      <th></th>\n",
              "    </tr>\n",
              "  </thead>\n",
              "  <tbody>\n",
              "    <tr>\n",
              "      <th>2017-12-22</th>\n",
              "      <td>174.679993</td>\n",
              "      <td>175.419998</td>\n",
              "      <td>174.500000</td>\n",
              "      <td>175.009995</td>\n",
              "      <td>174.299362</td>\n",
              "      <td>16349400</td>\n",
              "      <td>173.815999</td>\n",
              "      <td>169.0422</td>\n",
              "      <td>1</td>\n",
              "      <td>170.570007</td>\n",
              "      <td>-4.439988</td>\n",
              "      <td>0.0</td>\n",
              "      <td>34.692862</td>\n",
              "    </tr>\n",
              "    <tr>\n",
              "      <th>2017-12-26</th>\n",
              "      <td>170.800003</td>\n",
              "      <td>171.470001</td>\n",
              "      <td>169.679993</td>\n",
              "      <td>170.570007</td>\n",
              "      <td>169.877396</td>\n",
              "      <td>33185500</td>\n",
              "      <td>173.606000</td>\n",
              "      <td>169.3138</td>\n",
              "      <td>1</td>\n",
              "      <td>170.600006</td>\n",
              "      <td>0.029999</td>\n",
              "      <td>0.0</td>\n",
              "      <td>34.692862</td>\n",
              "    </tr>\n",
              "    <tr>\n",
              "      <th>2017-12-27</th>\n",
              "      <td>170.100006</td>\n",
              "      <td>170.779999</td>\n",
              "      <td>169.710007</td>\n",
              "      <td>170.600006</td>\n",
              "      <td>169.907272</td>\n",
              "      <td>21498200</td>\n",
              "      <td>173.496001</td>\n",
              "      <td>169.5282</td>\n",
              "      <td>1</td>\n",
              "      <td>171.080002</td>\n",
              "      <td>0.479996</td>\n",
              "      <td>0.0</td>\n",
              "      <td>34.692862</td>\n",
              "    </tr>\n",
              "    <tr>\n",
              "      <th>2017-12-28</th>\n",
              "      <td>171.000000</td>\n",
              "      <td>171.850006</td>\n",
              "      <td>170.479996</td>\n",
              "      <td>171.080002</td>\n",
              "      <td>170.385315</td>\n",
              "      <td>16480200</td>\n",
              "      <td>173.377000</td>\n",
              "      <td>169.7404</td>\n",
              "      <td>1</td>\n",
              "      <td>169.229996</td>\n",
              "      <td>-1.850006</td>\n",
              "      <td>0.0</td>\n",
              "      <td>34.692862</td>\n",
              "    </tr>\n",
              "    <tr>\n",
              "      <th>2017-12-29</th>\n",
              "      <td>170.520004</td>\n",
              "      <td>170.589996</td>\n",
              "      <td>169.220001</td>\n",
              "      <td>169.229996</td>\n",
              "      <td>168.542831</td>\n",
              "      <td>25999900</td>\n",
              "      <td>173.078000</td>\n",
              "      <td>169.9298</td>\n",
              "      <td>1</td>\n",
              "      <td>NaN</td>\n",
              "      <td>NaN</td>\n",
              "      <td>0.0</td>\n",
              "      <td>34.692862</td>\n",
              "    </tr>\n",
              "  </tbody>\n",
              "</table>\n",
              "</div>\n",
              "      <button class=\"colab-df-convert\" onclick=\"convertToInteractive('df-5a1a949f-a402-4061-aa72-f6af5f2cc237')\"\n",
              "              title=\"Convert this dataframe to an interactive table.\"\n",
              "              style=\"display:none;\">\n",
              "        \n",
              "  <svg xmlns=\"http://www.w3.org/2000/svg\" height=\"24px\"viewBox=\"0 0 24 24\"\n",
              "       width=\"24px\">\n",
              "    <path d=\"M0 0h24v24H0V0z\" fill=\"none\"/>\n",
              "    <path d=\"M18.56 5.44l.94 2.06.94-2.06 2.06-.94-2.06-.94-.94-2.06-.94 2.06-2.06.94zm-11 1L8.5 8.5l.94-2.06 2.06-.94-2.06-.94L8.5 2.5l-.94 2.06-2.06.94zm10 10l.94 2.06.94-2.06 2.06-.94-2.06-.94-.94-2.06-.94 2.06-2.06.94z\"/><path d=\"M17.41 7.96l-1.37-1.37c-.4-.4-.92-.59-1.43-.59-.52 0-1.04.2-1.43.59L10.3 9.45l-7.72 7.72c-.78.78-.78 2.05 0 2.83L4 21.41c.39.39.9.59 1.41.59.51 0 1.02-.2 1.41-.59l7.78-7.78 2.81-2.81c.8-.78.8-2.07 0-2.86zM5.41 20L4 18.59l7.72-7.72 1.47 1.35L5.41 20z\"/>\n",
              "  </svg>\n",
              "      </button>\n",
              "      \n",
              "  <style>\n",
              "    .colab-df-container {\n",
              "      display:flex;\n",
              "      flex-wrap:wrap;\n",
              "      gap: 12px;\n",
              "    }\n",
              "\n",
              "    .colab-df-convert {\n",
              "      background-color: #E8F0FE;\n",
              "      border: none;\n",
              "      border-radius: 50%;\n",
              "      cursor: pointer;\n",
              "      display: none;\n",
              "      fill: #1967D2;\n",
              "      height: 32px;\n",
              "      padding: 0 0 0 0;\n",
              "      width: 32px;\n",
              "    }\n",
              "\n",
              "    .colab-df-convert:hover {\n",
              "      background-color: #E2EBFA;\n",
              "      box-shadow: 0px 1px 2px rgba(60, 64, 67, 0.3), 0px 1px 3px 1px rgba(60, 64, 67, 0.15);\n",
              "      fill: #174EA6;\n",
              "    }\n",
              "\n",
              "    [theme=dark] .colab-df-convert {\n",
              "      background-color: #3B4455;\n",
              "      fill: #D2E3FC;\n",
              "    }\n",
              "\n",
              "    [theme=dark] .colab-df-convert:hover {\n",
              "      background-color: #434B5C;\n",
              "      box-shadow: 0px 1px 3px 1px rgba(0, 0, 0, 0.15);\n",
              "      filter: drop-shadow(0px 1px 2px rgba(0, 0, 0, 0.3));\n",
              "      fill: #FFFFFF;\n",
              "    }\n",
              "  </style>\n",
              "\n",
              "      <script>\n",
              "        const buttonEl =\n",
              "          document.querySelector('#df-5a1a949f-a402-4061-aa72-f6af5f2cc237 button.colab-df-convert');\n",
              "        buttonEl.style.display =\n",
              "          google.colab.kernel.accessAllowed ? 'block' : 'none';\n",
              "\n",
              "        async function convertToInteractive(key) {\n",
              "          const element = document.querySelector('#df-5a1a949f-a402-4061-aa72-f6af5f2cc237');\n",
              "          const dataTable =\n",
              "            await google.colab.kernel.invokeFunction('convertToInteractive',\n",
              "                                                     [key], {});\n",
              "          if (!dataTable) return;\n",
              "\n",
              "          const docLinkHtml = 'Like what you see? Visit the ' +\n",
              "            '<a target=\"_blank\" href=https://colab.research.google.com/notebooks/data_table.ipynb>data table notebook</a>'\n",
              "            + ' to learn more about interactive tables.';\n",
              "          element.innerHTML = '';\n",
              "          dataTable['output_type'] = 'display_data';\n",
              "          await google.colab.output.renderOutput(dataTable, element);\n",
              "          const docLink = document.createElement('div');\n",
              "          docLink.innerHTML = docLinkHtml;\n",
              "          element.appendChild(docLink);\n",
              "        }\n",
              "      </script>\n",
              "    </div>\n",
              "  </div>\n",
              "  "
            ]
          },
          "metadata": {},
          "execution_count": 54
        }
      ]
    },
    {
      "cell_type": "code",
      "source": [
        "print(\"total monnie you win is : \", apple.loc[apple.index[-1], \"win\"])\n",
        "print(\"total monnie you spent is : \", apple.loc[apple.index[0], \"Close\"])"
      ],
      "metadata": {
        "colab": {
          "base_uri": "https://localhost:8080/"
        },
        "id": "rpJqDcjKMt7M",
        "outputId": "188158f3-a868-495e-d5e2-03c244a66b61"
      },
      "execution_count": null,
      "outputs": [
        {
          "output_type": "stream",
          "name": "stdout",
          "text": [
            "total monnie you win is :  34.69286199999993\n",
            "total monnie you spent is :  10.694285\n"
          ]
        }
      ]
    },
    {
      "cell_type": "code",
      "source": [
        "apple['win'].plot(legend=True)\n",
        "plt.show()"
      ],
      "metadata": {
        "colab": {
          "base_uri": "https://localhost:8080/",
          "height": 279
        },
        "id": "AA-rbwC4Jqnf",
        "outputId": "cbdeaba2-c472-423c-ea90-00e58c2ae3cd"
      },
      "execution_count": null,
      "outputs": [
        {
          "output_type": "display_data",
          "data": {
            "text/plain": [
              "<Figure size 432x288 with 1 Axes>"
            ],
            "image/png": "[encoded data removed]"
          },
          "metadata": {
            "needs_background": "light"
          }
        }
      ]
    },
    {
      "cell_type": "code",
      "source": [
        "apple.loc['2012-08-01':'2013-08-01' ,'Close'].plot(legend=True)\n",
        "\n",
        "# big drop in apple's stock price "
      ],
      "metadata": {
        "colab": {
          "base_uri": "https://localhost:8080/",
          "height": 296
        },
        "id": "3lvG85JwI7GB",
        "outputId": "9eddca85-a677-4d7e-a9a6-aeaae19baaef"
      },
      "execution_count": null,
      "outputs": [
        {
          "output_type": "execute_result",
          "data": {
            "text/plain": [
              "<AxesSubplot:xlabel='Date'>"
            ]
          },
          "metadata": {},
          "execution_count": 63
        },
        {
          "output_type": "display_data",
          "data": {
            "text/plain": [
              "<Figure size 432x288 with 1 Axes>"
            ],
            "image/png": "[encoded data removed]"
          },
          "metadata": {
            "needs_background": "light"
          }
        }
      ]
    },
    {
      "cell_type": "code",
      "source": [
        "# probabilité et analyse\n",
        "\n",
        "from scipy.stats import norm"
      ],
      "metadata": {
        "id": "VgZJ_5LRMSyG"
      },
      "execution_count": null,
      "outputs": []
    },
    {
      "cell_type": "code",
      "source": [
        "# Calcul the mean and std\n",
        "mu = apple['daily_profit'].mean()\n",
        "sigma = apple['daily_profit'].std(ddof=1)\n",
        "print(mu, sigma)\n"
      ],
      "metadata": {
        "colab": {
          "base_uri": "https://localhost:8080/"
        },
        "id": "LdGoyjoLSSWk",
        "outputId": "8d1cdb32-62a7-4311-fff7-6fe0997d39ea"
      },
      "execution_count": null,
      "outputs": [
        {
          "output_type": "stream",
          "name": "stdout",
          "text": [
            "0.05599989791593076 1.2019967098445599\n"
          ]
        }
      ]
    },
    {
      "cell_type": "code",
      "source": [
        "#  calcule the day return\n",
        "apple['log_return'] = np.log(apple['Close']).shift(-1) - np.log(apple['Close']).shift()\n",
        "apple['log_return'].hist(bins = 50)"
      ],
      "metadata": {
        "colab": {
          "base_uri": "https://localhost:8080/",
          "height": 282
        },
        "id": "qqWud2FCBGJO",
        "outputId": "6141824f-e34c-413b-edda-ceefe1f23dca"
      },
      "execution_count": null,
      "outputs": [
        {
          "output_type": "execute_result",
          "data": {
            "text/plain": [
              "<AxesSubplot:>"
            ]
          },
          "metadata": {},
          "execution_count": 66
        },
        {
          "output_type": "display_data",
          "data": {
            "text/plain": [
              "<Figure size 432x288 with 1 Axes>"
            ],
            "image/png": "[encoded data removed]"
          },
          "metadata": {
            "needs_background": "light"
          }
        }
      ]
    },
    {
      "cell_type": "code",
      "source": [
        "# the histogram is similar to a cloche courbe so the distribution is normal"
      ],
      "metadata": {
        "id": "vRcOcTnIB3Wl"
      },
      "execution_count": null,
      "outputs": []
    },
    {
      "cell_type": "code",
      "source": [
        "# calcule de probabilté que 40% des actions ont chuté dans l'année 2012 soit 220 jour de trade\n",
        "\n",
        "# nous devons d'abord calcule la moyenne et ecart type de cette distribultion normale \n",
        "\n",
        "mu_220 = mu*220\n",
        "sigma_220 = 220**0.5 * sigma\n",
        "norm_cdf = norm.cdf(-0.4, mu_220, sigma_220)\n",
        "\n",
        "print(\"la probabilité de chute des actions apple 40% durant une année 2012-2013 est de: \", norm_cdf)"
      ],
      "metadata": {
        "colab": {
          "base_uri": "https://localhost:8080/"
        },
        "id": "Az3JbGAREZUq",
        "outputId": "2e77fb11-a847-4b94-ebbd-001a1dc66b85"
      },
      "execution_count": null,
      "outputs": [
        {
          "output_type": "stream",
          "name": "stdout",
          "text": [
            "la probabilité de chute des actions apple 40% durant une année 2012-2013 est de:  0.2377795134288253\n"
          ]
        }
      ]
    },
    {
      "cell_type": "code",
      "source": [
        "# alors ce qui a arrive a action apple entre 2012-2013, il n'est pas compatible avec le rendement global "
      ],
      "metadata": {
        "id": "MU7vISy_GSuc"
      },
      "execution_count": null,
      "outputs": []
    }
  ]
}