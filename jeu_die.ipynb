{
  "nbformat": 4,
  "nbformat_minor": 0,
  "metadata": {
    "colab": {
      "provenance": [],
      "mount_file_id": "1kUins5Ckq9U5wkiIphy06po0QqWEmGN5",
      "authorship_tag": "ABX9TyPxxjWm3bddKH+5D3X6ng4w",
      "include_colab_link": true
    },
    "kernelspec": {
      "name": "python3",
      "display_name": "Python 3"
    },
    "language_info": {
      "name": "python"
    }
  },
  "cells": [
    {
      "cell_type": "markdown",
      "metadata": {
        "id": "view-in-github",
        "colab_type": "text"
      },
      "source": [
        "<a href=\"https://colab.research.google.com/github/tarhi/Apple-statistique-et-analyse/blob/main/jeu_die.ipynb\" target=\"_parent\"><img src=\"https://colab.research.google.com/assets/colab-badge.svg\" alt=\"Open In Colab\"/></a>"
      ]
    },
    {
      "cell_type": "code",
      "execution_count": 9,
      "metadata": {
        "id": "tLhnDFmT7Fb6"
      },
      "outputs": [],
      "source": [
        "import pandas as pd\n",
        "import numpy as np\n",
        "import matplotlib.pyplot as plt\n",
        "import seaborn as sns"
      ]
    },
    {
      "cell_type": "code",
      "source": [
        "die = pd.DataFrame([1,2,3,4,5,6])"
      ],
      "metadata": {
        "id": "SJeEjNfZFg9h"
      },
      "execution_count": 10,
      "outputs": []
    },
    {
      "cell_type": "code",
      "source": [
        "result = die.sample(2, replace=True).sum().loc[0]\n",
        "result"
      ],
      "metadata": {
        "colab": {
          "base_uri": "https://localhost:8080/"
        },
        "id": "IlV9Yps1FiKt",
        "outputId": "8bd028c5-8a34-419d-d0de-227d58885368"
      },
      "execution_count": 11,
      "outputs": [
        {
          "output_type": "execute_result",
          "data": {
            "text/plain": [
              "11"
            ]
          },
          "metadata": {},
          "execution_count": 11
        }
      ]
    },
    {
      "cell_type": "code",
      "source": [
        "frequ = pd.DataFrame(die).value_counts()\n",
        "frequ"
      ],
      "metadata": {
        "colab": {
          "base_uri": "https://localhost:8080/"
        },
        "id": "2moezwOzFn8O",
        "outputId": "4ad1ad0f-e5bc-4b0d-83ae-85008237a9e9"
      },
      "execution_count": 12,
      "outputs": [
        {
          "output_type": "execute_result",
          "data": {
            "text/plain": [
              "1    1\n",
              "2    1\n",
              "3    1\n",
              "4    1\n",
              "5    1\n",
              "6    1\n",
              "dtype: int64"
            ]
          },
          "metadata": {},
          "execution_count": 12
        }
      ]
    },
    {
      "cell_type": "code",
      "source": [
        "fois = 50\n",
        "result_50 = [die.sample(2, replace=True).sum().loc[0] for i in range(fois)]\n",
        "# result_50[ :10]"
      ],
      "metadata": {
        "id": "EkYHHsd6Fr9k"
      },
      "execution_count": 13,
      "outputs": []
    },
    {
      "cell_type": "code",
      "source": [
        "# variable aleatoire descrit quand le choix est limité exemple d'un die\n",
        "# variable aleatoire continue quant le choix est ilimite "
      ],
      "metadata": {
        "id": "JNnhrdm4FxYb"
      },
      "execution_count": 14,
      "outputs": []
    }
  ]
}